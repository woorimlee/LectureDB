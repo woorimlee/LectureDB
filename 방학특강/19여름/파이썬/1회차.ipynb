{
 "cells": [
  {
   "attachments": {},
   "cell_type": "markdown",
   "metadata": {},
   "source": [
    "### 1. Python 설치\n",
    "\n",
    "    1) Python.org 접속\n",
    "    \n",
    "    2) 다운로드 버튼 클릭\n",
    "   <img src=\"https://user-images.githubusercontent.com/36785390/60640850-1e132480-9e64-11e9-9093-9fd08791b9e2.png\" width=\"50%\"></img>\n",
    "   \n",
    "    3) Add Python 3.x to PATH 클릭 후 Install\n",
    "   <img src=\"https://user-images.githubusercontent.com/36785390/60640944-84984280-9e64-11e9-8606-06c6fa33d2fb.png\" width=\"50%\"></img>\n",
    "   \n",
    "    4) 설치 후 idle 프로그램으로 Python 코딩\n",
    ".     \n",
    ".     \n",
    ".     \n",
    "### 2. 입출력\n",
    "\n",
    "\n",
    "### 3. 변수\n",
    "\n",
    "\n",
    "### 4. 출력변환\n",
    "\n",
    "\n",
    "### 5. 사칙연산"
   ]
  },
  {
   "cell_type": "code",
   "execution_count": null,
   "metadata": {},
   "outputs": [],
   "source": []
  },
  {
   "cell_type": "code",
   "execution_count": null,
   "metadata": {},
   "outputs": [],
   "source": []
  }
 ],
 "metadata": {
  "kernelspec": {
   "display_name": "Python 3",
   "language": "python",
   "name": "python3"
  },
  "language_info": {
   "codemirror_mode": {
    "name": "ipython",
    "version": 3
   },
   "file_extension": ".py",
   "mimetype": "text/x-python",
   "name": "python",
   "nbconvert_exporter": "python",
   "pygments_lexer": "ipython3",
   "version": "3.7.3"
  }
 },
 "nbformat": 4,
 "nbformat_minor": 2
}
