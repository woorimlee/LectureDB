{
 "cells": [
  {
   "cell_type": "markdown",
   "metadata": {},
   "source": [
    "### 1. Python 설치\n",
    "\n",
    "    1) Python.org 접속\n",
    "    \n",
    "    2) 다운로드 버튼 클릭\n",
    "   <img src=\"https://user-images.githubusercontent.com/36785390/60640850-1e132480-9e64-11e9-9093-9fd08791b9e2.png\" width=\"50%\"></img>\n",
    "   \n",
    "    3) Add Python 3.x to PATH 클릭 후 Install\n",
    "   <img src=\"https://user-images.githubusercontent.com/36785390/60640944-84984280-9e64-11e9-8606-06c6fa33d2fb.png\" width=\"50%\"></img>\n",
    "   \n",
    "    4) 설치 후 idle 프로그램으로 Python 코딩\n",
    "\n",
    "          \n",
    "### 2. 입출력\n",
    "\n",
    "* 파이썬에서 화면으로 데이터를 출력할 때 사용하는 함수는 **print()**다.\n",
    "    \n",
    "    1) print() 함수는 ','로 구분되는 출력할 데이터 사이에 공백 한 개를 추가하고, 마지막에 줄 바꾸기를 수행한다.\n",
    "        ex) print(\"1 더하기 2 =\", 1+2) -- 출력시 --> 1 더하기 2 =(공백추가)3(줄바꾸기)"
   ]
  },
  {
   "cell_type": "code",
   "execution_count": 12,
   "metadata": {},
   "outputs": [
    {
     "name": "stdout",
     "output_type": "stream",
     "text": [
      "2019\n",
      "오늘 날씨는 맑음\n",
      "1 더하기 2 = 3\n"
     ]
    }
   ],
   "source": [
    "print(\"2019\")\n",
    "print(\"오늘 날씨는 맑음\")\n",
    "print(\"1 더하기 2 =\", 1+2)"
   ]
  },
  {
   "cell_type": "markdown",
   "metadata": {},
   "source": [
    "* 파이썬에서 키보드로 데이터를 입력받기 위해서는 **input()** 함수를 사용한다.\n",
    "  \n",
    "    1) input()함수의 () 안에 문자열을 입력하면 어떤 값을 입력하라고 사용자에게 보여줄 수 있다.\n",
    "          \n",
    "    2) 문자열을 입력받기 때문에, 정수나 실수 값을 원한다면 문자열을 입력받고서 정수나 실수로 변환해야한다.\n",
    "\n",
    "    정수는 int로, 실수는 float로 변환한다."
   ]
  },
  {
   "cell_type": "code",
   "execution_count": 14,
   "metadata": {},
   "outputs": [
    {
     "name": "stdout",
     "output_type": "stream",
     "text": [
      "이름을 입력해주세요 : 잼코딩\n",
      "잼코딩\n",
      "2019\n",
      "2019\n",
      "다른 숫자 입력 : 0704\n",
      "0704\n",
      "x의 형태 : <class 'int'> y의 형태 : <class 'str'>\n"
     ]
    }
   ],
   "source": [
    "name = input('이름을 입력해주세요 : ')\n",
    "print(name)\n",
    "x = int(input())\n",
    "print(x)\n",
    "y = input('다른 숫자 입력 : ')\n",
    "print(y)\n",
    "print(\"x의 형태 :\", type(x), \"y의 형태 :\", type(y))"
   ]
  },
  {
   "cell_type": "markdown",
   "metadata": {},
   "source": [
    "### 3. 파이썬 기초 자료형(변수)\n",
    "  \n",
    "* 파이썬의 내장 자료형(Built in type)을 사용해 데이터들의 형태를 다양하게 저장할 수 있다.\n",
    "  \n",
    "    ex) 정수, 실수, 문자열, bool(true of false), 리스트 등\n",
    " \n",
    "   \n",
    "* 자료형은 컴퓨터가 이해할 수 있는 데이터의 종류이기 때문에 **정수 1과 문자 '1'은 엄연히 다르다.**\n",
    "  \n",
    "    \n",
    "* 자료형을 확인하기 위해선 type() 함수를 사용한다.\n",
    "  \n",
    "    1) int : 정수를 표현하는데 사용한다."
   ]
  },
  {
   "cell_type": "code",
   "execution_count": 16,
   "metadata": {},
   "outputs": [
    {
     "name": "stdout",
     "output_type": "stream",
     "text": [
      "a의 자료형은  <class 'int'> 값은 1\n"
     ]
    }
   ],
   "source": [
    "a = 1\n",
    "print(\"a의 자료형은 \", type(a), \"값은\", a)"
   ]
  },
  {
   "cell_type": "markdown",
   "metadata": {},
   "source": [
    "    2) float : 실수를 표현하는데 사용한다."
   ]
  },
  {
   "cell_type": "code",
   "execution_count": 17,
   "metadata": {},
   "outputs": [
    {
     "name": "stdout",
     "output_type": "stream",
     "text": [
      "b의 자료형은  <class 'float'> 값은 1.43\n"
     ]
    }
   ],
   "source": [
    "b = 1.43\n",
    "print(\"b의 자료형은 \", type(b), \"값은\", b)"
   ]
  },
  {
   "cell_type": "markdown",
   "metadata": {},
   "source": [
    "    3) str : 문자의 모임을(문자열) 표현하는데 사용한다. 아래와 같은 다양한 표기법이 존재한다.\n",
    "      ex) 'a', 'abc', \"cheeze\", \"\"\"hello jamcoding\"\"\"\n",
    "    \"을 세 개 사용한 \"\"\"은 줄을 바꾼 문자열도 인식한다."
   ]
  },
  {
   "cell_type": "code",
   "execution_count": 20,
   "metadata": {
    "scrolled": true
   },
   "outputs": [
    {
     "name": "stdout",
     "output_type": "stream",
     "text": [
      "c1의 자료형은  <class 'str'> 값은 hi\n",
      "c2의 자료형은  <class 'str'> 값은 hi\n",
      "c3의 자료형은  <class 'str'> 값은 I \n",
      "my \n",
      "me \n",
      "mine\n"
     ]
    }
   ],
   "source": [
    "c1 = 'hi'\n",
    "c2 = \"hi\"\n",
    "c3 = \"\"\"I \n",
    "my \n",
    "me \n",
    "mine\"\"\"\n",
    "print(\"c1의 자료형은 \", type(c1), \"값은\", c1)\n",
    "print(\"c2의 자료형은 \", type(c2), \"값은\", c2)\n",
    "print(\"c3의 자료형은 \", type(c3), \"값은\", c3)"
   ]
  },
  {
   "cell_type": "markdown",
   "metadata": {},
   "source": [
    "    4) bool : 참(True)과 거짓(False)을 구분하는 데 사용한다."
   ]
  },
  {
   "cell_type": "code",
   "execution_count": 25,
   "metadata": {},
   "outputs": [
    {
     "name": "stdout",
     "output_type": "stream",
     "text": [
      "d1의 자료형은  <class 'bool'> 값은 True\n",
      "d2의 자료형은  <class 'bool'> 값은 False\n"
     ]
    }
   ],
   "source": [
    "d1 = True\n",
    "d2 = False\n",
    "print(\"d1의 자료형은 \", type(d1), \"값은\", d1)\n",
    "print(\"d2의 자료형은 \", type(d2), \"값은\", d2)"
   ]
  },
  {
   "cell_type": "markdown",
   "metadata": {},
   "source": [
    "    5) list : 다양한 자료들을 순서대로 보관하는데 사용한다.\n",
    "    [ ] 안에 담을 내용들을 쉼표로 구분해 넣는다."
   ]
  },
  {
   "cell_type": "code",
   "execution_count": 26,
   "metadata": {},
   "outputs": [
    {
     "name": "stdout",
     "output_type": "stream",
     "text": [
      "e의 자료형은  <class 'list'> 값은 ['first', 2, 3.14, True]\n"
     ]
    }
   ],
   "source": [
    "e = ['first', 2, 3.14, True]\n",
    "print(\"e의 자료형은 \", type(e), \"값은\", e)"
   ]
  },
  {
   "cell_type": "markdown",
   "metadata": {},
   "source": [
    "### 4. 다양한 출력 방법\n",
    "\n",
    "* 1) 두 개의 문자열을 붙여서 출력하고 싶으면 '+'를 사용한다."
   ]
  },
  {
   "cell_type": "code",
   "execution_count": 28,
   "metadata": {},
   "outputs": [
    {
     "name": "stdout",
     "output_type": "stream",
     "text": [
      "My name is Jam\n",
      "My name is  Jam\n"
     ]
    }
   ],
   "source": [
    "str1 = \"My name is \"\n",
    "str2 = \"Jam\"\n",
    "#아래 두 개의 출력 결과는 어떻게 다를까?\n",
    "print(str1+str2)\n",
    "print(str1, str2)"
   ]
  },
  {
   "cell_type": "markdown",
   "metadata": {},
   "source": [
    "* 2) print 함수를 사용할 때 ','로 구분되는 데이터들 사이에는 공백이 추가된다.\n",
    "   \n",
    "  이를 바꾸고 싶으면 sep 인자에 값을 넣어준다."
   ]
  },
  {
   "cell_type": "code",
   "execution_count": 30,
   "metadata": {},
   "outputs": [
    {
     "name": "stdout",
     "output_type": "stream",
     "text": [
      "아버지가 방에 들어가신다.\n",
      "아버지가방에들어가신다.\n",
      "아버지가\n",
      "방에\n",
      "들어가신다.\n"
     ]
    }
   ],
   "source": [
    "print(\"아버지가\", \"방에\", \"들어가신다.\")\n",
    "print(\"아버지가\", \"방에\", \"들어가신다.\", sep = '')\n",
    "#sep = ''는 데이터들 사이를 구분짓는 것으로 아무것도 안 넣겠다는 뜻.\n",
    "print(\"아버지가\", \"방에\", \"들어가신다.\", sep = '\\n')\n",
    "#sep = '\\n'은 데이터들 사이를 구분짓는 것으로 줄바꿈을 넣겠다는 뜻."
   ]
  },
  {
   "cell_type": "markdown",
   "metadata": {},
   "source": [
    "위의 예제를 통해서 print() 함수의 기본 sep 값은 공백('띄어쓰기')이라는 것을 알 수 있다!"
   ]
  },
  {
   "cell_type": "markdown",
   "metadata": {},
   "source": [
    "* 3) print 함수를 사용하고나면 자동으로 한 줄을 바꾼다.\n",
    "  \n",
    "  이를 바꾸고 싶으면 end 인자에 값을 넣어준다."
   ]
  },
  {
   "cell_type": "code",
   "execution_count": 35,
   "metadata": {},
   "outputs": [
    {
     "name": "stdout",
     "output_type": "stream",
     "text": [
      "테스트\n",
      "테스트실험. 위의 print에선 줄바꿈이 일어나지 않았다!\n"
     ]
    }
   ],
   "source": [
    "print(\"테스트\")\n",
    "print(\"테스트\", end = '실험. ')\n",
    "print(\"위의 print에선 줄바꿈이 일어나지 않았다!\")"
   ]
  },
  {
   "cell_type": "markdown",
   "metadata": {},
   "source": [
    "위의 예제를 통해서 print() 함수의 기본 end 값은 줄바꿈('\\n')이라는 것을 알 수 있다!\n",
    "  \n",
    "* 4) print 함수에 format 함수를 사용하면 출력할 서식을 정해줄 수 있다.\n",
    "  \n",
    "  format 함수의 기본 형태 : format(값, 값의 형태를 어떻게 변환시킬지 표현)"
   ]
  },
  {
   "cell_type": "code",
   "execution_count": 20,
   "metadata": {},
   "outputs": [
    {
     "name": "stdout",
     "output_type": "stream",
     "text": [
      "  3.141593\n",
      "     3.142\n",
      "3.141593\n"
     ]
    }
   ],
   "source": [
    "print(format(3.141592653, '10.6f'))\n",
    "print(format(3.141592653, '10.3f'))\n",
    "print(format(3.141592653, '8.6f'))\n",
    "\n",
    "# . 앞의 숫자는 총 몇 칸을 확보할 것인지를 말해줌.\n",
    "# .6f 기준으로 총 8 문자가 출력되니 8.6f 하면 앞에 공백이 없고, 10.6f 하면 앞에 공백이 두 칸 있음"
   ]
  },
  {
   "cell_type": "markdown",
   "metadata": {},
   "source": [
    "* format 함수는 다음과 같이 쓸 수도 있다."
   ]
  },
  {
   "cell_type": "code",
   "execution_count": 21,
   "metadata": {},
   "outputs": [
    {
     "name": "stdout",
     "output_type": "stream",
     "text": [
      "잼코딩에 다닌지 6개월, 나는 알고리즘 고수가 되었다.\n"
     ]
    }
   ],
   "source": [
    "print(\"잼코딩에 다닌지 {0}개월, 나는 {1} 고수가 되었다.\".format(6, \"알고리즘\"))"
   ]
  },
  {
   "cell_type": "markdown",
   "metadata": {},
   "source": [
    "* 위의 예제에서 {0}과 {1}은 format 함수의 입력 부분 ()에 있는 두 개의 값으로 대체된다.\n",
    "* {n}에도 출력 서식을 정해줄 수 있다."
   ]
  },
  {
   "cell_type": "code",
   "execution_count": 25,
   "metadata": {},
   "outputs": [
    {
     "name": "stdout",
     "output_type": "stream",
     "text": [
      "pi :   3.14159\n"
     ]
    }
   ],
   "source": [
    "print(\"pi :{0:10.5f}\".format(3.141592653))"
   ]
  },
  {
   "cell_type": "markdown",
   "metadata": {},
   "source": [
    "* 5) 알고리즘 시험을 보다보면 문자 대, 소문자 변환을 해야 할 때가 종종 있다.\n",
    "  \n",
    "  그럴 때 아래의 함수를 사용해보자."
   ]
  },
  {
   "cell_type": "code",
   "execution_count": 28,
   "metadata": {},
   "outputs": [
    {
     "name": "stdout",
     "output_type": "stream",
     "text": [
      "ABCDefgh\n",
      "ABCDEFGH\n",
      "abcdefgh\n",
      "Abcdefgh\n",
      "ABCDefgh\n",
      "ABCDEFGH\n"
     ]
    }
   ],
   "source": [
    "case1 = \"ABCDefgh\"\n",
    "print(case1)\n",
    "\n",
    "#대문자로 변환\n",
    "print(case1.upper())\n",
    "#소문자로 변환\n",
    "print(case1.lower())\n",
    "#맨 첫 글자만 대문자로 변환 \n",
    "print(case1.capitalize())\n",
    "#원본은 변하지 않는다\n",
    "print(case1)\n",
    "\n",
    "#문자 변환한 결과를 저장하고 싶으면 따로 아래와 같이 선언해줘야 한다.\n",
    "case1 = case1.upper()\n",
    "print(case1)"
   ]
  },
  {
   "cell_type": "markdown",
   "metadata": {},
   "source": [
    "### 5. 수 연산\n",
    "  \n",
    "* 수(정수, 실수, 복소수)를 표현하는 방법과 다양한 연산 방법들을 배워볼 것이다.\n",
    "  \n",
    "* 정수의 자료형(컴퓨터가 이해할 수 있는 data 종류)은 int로 선언한다.\n",
    "  \n",
    "    1) 정수 자료형을 확인해보고 진법 변환을 해보자."
   ]
  },
  {
   "cell_type": "code",
   "execution_count": 41,
   "metadata": {},
   "outputs": [
    {
     "name": "stdout",
     "output_type": "stream",
     "text": [
      "10 <class 'int'>\n",
      "2 <class 'int'>\n",
      "8 <class 'int'>\n",
      "16 <class 'int'>\n",
      "16\n",
      "0b1010\n",
      "0o12\n",
      "0xa\n"
     ]
    }
   ],
   "source": [
    "num = 10\n",
    "print(num, type(num)) #자료형 확인\n",
    "\n",
    "num_binary = 0b10 #2진수 선언을 위해 숫자 앞에 0b를 붙인다.\n",
    "print(num_binary, type(num_binary))\n",
    "\n",
    "num_octal = 0o10 #8진수 선언을 위해 숫자 앞에 0o를 붙인다.\n",
    "print(num_octal, type(num_octal))\n",
    "\n",
    "num_hex = 0x10 #16진수 선언을 위해 0x를 붙인다.\n",
    "print(num_hex, type(num_hex))\n",
    "\n",
    "#다른 진수의 수를(str 형태여야 함) 10진수로 변환하려면 int() 함수를 사용한다.\n",
    "print(int('10', 16))\n",
    "\n",
    "#10진수를 2, 8, 16진수로 변환하기 위해 아래의 함수를 사용한다.\n",
    "print(bin(10))\n",
    "print(oct(10))\n",
    "print(hex(10))"
   ]
  },
  {
   "cell_type": "markdown",
   "metadata": {},
   "source": [
    "    2) 다른 자료형을 정수로 변환하려면 int()를 사용한다."
   ]
  },
  {
   "cell_type": "code",
   "execution_count": 46,
   "metadata": {},
   "outputs": [
    {
     "name": "stdout",
     "output_type": "stream",
     "text": [
      "123\n",
      "3\n"
     ]
    }
   ],
   "source": [
    "print(int(\"123\"))\n",
    "print(int(3.141592))"
   ]
  },
  {
   "cell_type": "markdown",
   "metadata": {},
   "source": [
    "* 실수의 자료형은 float로 선언한다.\n",
    "    \n",
    "    1) 실수형 상수는 소수점을 포함하거나 e(또는 E)로 지수를 포함한다.\n",
    "    \n",
    "    2) 실수는 무한대의 수도 표현할 수 있다. 이는 알고리즘 시험에서 쓰일 수 있다."
   ]
  },
  {
   "cell_type": "code",
   "execution_count": 49,
   "metadata": {},
   "outputs": [
    {
     "name": "stdout",
     "output_type": "stream",
     "text": [
      "3.14 <class 'float'>\n",
      "3.14\n",
      "inf\n",
      "-inf\n",
      "inf\n",
      "nan\n",
      "inf\n",
      "nan\n"
     ]
    }
   ],
   "source": [
    "num = 3.14\n",
    "print(num, type(num))\n",
    "\n",
    "num = 314e-2 #지수(e)를 사용한 표현도 가능하다. \n",
    "# ex) aeb = a * 10^b\n",
    "print(num)\n",
    "\n",
    "#양의 무한대와 음의 무한대는 아래와 같이 사용한다.\n",
    "print(float('inf'))\n",
    "print(float('-inf'))\n",
    "\n",
    "#무한대 연산 테스트\n",
    "infinity = float('inf')\n",
    "print(infinity + infinity)\n",
    "print(infinity - infinity)\n",
    "print(infinity * infinity)\n",
    "print(infinity / infinity)"
   ]
  },
  {
   "cell_type": "markdown",
   "metadata": {},
   "source": [
    "    3) 실수를 정수로 변환할 때 int(3.9) 하게되면 소수점 이하는 모두 버려진다.\n",
    "    반올림, 올림, 내림을 사용하기 위해선 아래의 함수를 사용한다."
   ]
  },
  {
   "cell_type": "code",
   "execution_count": 60,
   "metadata": {},
   "outputs": [
    {
     "name": "stdout",
     "output_type": "stream",
     "text": [
      "3\n",
      "3\n",
      "4\n",
      "4\n",
      "2\n"
     ]
    }
   ],
   "source": [
    "print((int(3.9)))\n",
    "\n",
    "#반올림\n",
    "print(round(3.1))\n",
    "print(round(3.5))\n",
    "\n",
    "#올림, 내림을 위해 math 라는 모듈을 사용한다.\n",
    "import math\n",
    "#올림\n",
    "print(math.ceil(3.1)) #3.1보다 크거나 같은 정수\n",
    "#내림\n",
    "print(math.floor(2.9)) #2.9보다 작거나 같은 정수"
   ]
  },
  {
   "cell_type": "markdown",
   "metadata": {},
   "source": [
    "    \n",
    "    4) 분수를 표현할 때 Fraction() 함수를 사용한다. \n",
    "    이를 위해 fractions라는 모듈을 사용해야 한다.\n",
    "    이는 정보 과제로 수학 문제가 나올 때 사용할 수 있다.   "
   ]
  },
  {
   "cell_type": "code",
   "execution_count": 67,
   "metadata": {},
   "outputs": [
    {
     "name": "stdout",
     "output_type": "stream",
     "text": [
      "31/35 <class 'fractions.Fraction'>\n",
      "31\n",
      "35\n"
     ]
    }
   ],
   "source": [
    "from fractions import Fraction\n",
    "num1 = Fraction(3, 5) # 3 / 5\n",
    "num2 = Fraction(2, 7) # 2 / 7\n",
    "test = num1 + num2\n",
    "print(test, type(test))\n",
    "\n",
    "print(test.numerator) #분자\n",
    "print(test.denominator) #분모"
   ]
  },
  {
   "cell_type": "markdown",
   "metadata": {},
   "source": [
    "* 파이썬의 산술 연산자는 +, -, *, /(나눗셈), //(몫), %(나머지) 등이 있다.\n",
    "  \n",
    "  나눗셈과 몫, 나머지를 먼저 사용해보자."
   ]
  },
  {
   "cell_type": "code",
   "execution_count": 71,
   "metadata": {},
   "outputs": [
    {
     "name": "stdout",
     "output_type": "stream",
     "text": [
      "2.5\n",
      "2\n",
      "2\n"
     ]
    }
   ],
   "source": [
    "print(10/4)\n",
    "print(10//4)\n",
    "print(10%4) # 10 = 2*4 + 2"
   ]
  },
  {
   "cell_type": "markdown",
   "metadata": {},
   "source": [
    "    1) 지수 연산을 위해선 **를 사용한다.\n",
    "    "
   ]
  },
  {
   "cell_type": "code",
   "execution_count": 73,
   "metadata": {},
   "outputs": [
    {
     "name": "stdout",
     "output_type": "stream",
     "text": [
      "8\n",
      "512\n",
      "64\n"
     ]
    }
   ],
   "source": [
    "print(2 ** 3)\n",
    "\n",
    "#아래의 두 예제 결과가 다른 이유는 무엇일까?\n",
    "print( 2 ** 3 ** 2)\n",
    "print( (2 ** 3) ** 2)"
   ]
  },
  {
   "cell_type": "markdown",
   "metadata": {},
   "source": [
    "* 추가 팁\n",
    "    \n",
    "    1) 연산자 우선 순위 : https://wikidocs.net/1165\n",
    "    \n",
    "    2) 파이썬 내장 수치 연산 함수\n",
    "    \n",
    "    abs() : 절대값을 구한다.\n",
    "    \n",
    "    sum(iterable) : 합을 구한다.\n",
    "    \n",
    "    pow(x, y) : x의 y승을 구한다.\n",
    "    \n",
    "    divmod(x, y) : x//y와 x%y의 쌍을 구한다.\n",
    "    \n",
    "    max(iterable), min(iterable) : 최대값과 최소값을 구한다.\n",
    "    \n",
    "    complex(re, im) : 실수부 re와 허수부 im을 갖는 복소수를 구한다.\n",
    "    \n",
    "    복소수변수.conjugate() : 복소수 변수의 켤레 복소수를 구한다.\n",
    "    \n",
    "    3) math 모듈 : https://wikidocs.net/11082\n",
    "    \n",
    "    제곱근, log, sin, cos, pi 등의 수학과 관련된 함수가 들어있는 표준 모듈이다."
   ]
  }
 ],
 "metadata": {
  "kernelspec": {
   "display_name": "Python 3",
   "language": "python",
   "name": "python3"
  },
  "language_info": {
   "codemirror_mode": {
    "name": "ipython",
    "version": 3
   },
   "file_extension": ".py",
   "mimetype": "text/x-python",
   "name": "python",
   "nbconvert_exporter": "python",
   "pygments_lexer": "ipython3",
   "version": "3.7.3"
  }
 },
 "nbformat": 4,
 "nbformat_minor": 2
}
