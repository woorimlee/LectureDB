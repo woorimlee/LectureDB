{
 "cells": [
  {
   "attachments": {},
   "cell_type": "markdown",
   "metadata": {},
   "source": [
    "### 1. Python 설치\n",
    "\n",
    "    1) Python.org 접속\n",
    "    \n",
    "    2) 다운로드 버튼 클릭\n",
    "   <img src=\"https://user-images.githubusercontent.com/36785390/60640850-1e132480-9e64-11e9-9093-9fd08791b9e2.png\" width=\"50%\"></img>\n",
    "   \n",
    "    3) Add Python 3.x to PATH 클릭 후 Install\n",
    "   <img src=\"https://user-images.githubusercontent.com/36785390/60640944-84984280-9e64-11e9-8606-06c6fa33d2fb.png\" width=\"50%\"></img>\n",
    "   \n",
    "    4) 설치 후 idle 프로그램으로 Python 코딩\n",
    "\n",
    "          \n",
    "### 2. 입출력\n",
    "\n",
    "* 파이썬에서 화면으로 데이터를 출력할 때 사용하는 함수는 **print()**다.\n",
    "    \n",
    "    1) print() 함수는 ','로 구분되는 출력할 데이터 사이에 공백 한 개를 추가하고, 마지막에 줄 바꾸기를 수행한다.\n",
    "        ex) print(\"1 더하기 2 =\", 1+2) -- 출력시 --> 1 더하기 2 =(공백추가)3(줄바꾸기)"
   ]
  },
  {
   "cell_type": "code",
   "execution_count": 12,
   "metadata": {},
   "outputs": [
    {
     "name": "stdout",
     "output_type": "stream",
     "text": [
      "2019\n",
      "오늘 날씨는 맑음\n",
      "1 더하기 2 = 3\n"
     ]
    }
   ],
   "source": [
    "print(\"2019\")\n",
    "print(\"오늘 날씨는 맑음\")\n",
    "print(\"1 더하기 2 =\", 1+2)"
   ]
  },
  {
   "cell_type": "markdown",
   "metadata": {},
   "source": [
    "* 파이썬에서 키보드로 데이터를 입력받기 위해서는 **input()** 함수를 사용한다.\n",
    "  \n",
    "    1) input()함수의 () 안에 문자열을 입력하면 어떤 값을 입력하라고 사용자에게 보여줄 수 있다.\n",
    "          \n",
    "    2) 문자열을 입력받기 때문에, 정수나 실수 값을 원한다면 문자열을 입력받고서 정수나 실수로 변환해야한다.\n",
    "\n",
    "    정수는 int로, 실수는 float로 변환한다."
   ]
  },
  {
   "cell_type": "code",
   "execution_count": 14,
   "metadata": {},
   "outputs": [
    {
     "name": "stdout",
     "output_type": "stream",
     "text": [
      "이름을 입력해주세요 : 잼코딩\n",
      "잼코딩\n",
      "2019\n",
      "2019\n",
      "다른 숫자 입력 : 0704\n",
      "0704\n",
      "x의 형태 : <class 'int'> y의 형태 : <class 'str'>\n"
     ]
    }
   ],
   "source": [
    "name = input('이름을 입력해주세요 : ')\n",
    "print(name)\n",
    "x = int(input())\n",
    "print(x)\n",
    "y = input('다른 숫자 입력 : ')\n",
    "print(y)\n",
    "print(\"x의 형태 :\", type(x), \"y의 형태 :\", type(y))"
   ]
  },
  {
   "cell_type": "markdown",
   "metadata": {},
   "source": [
    "### 3. 파이썬 기초 자료형(변수)\n",
    "  \n",
    "* 파이썬의 내장 자료형(Built in type)을 사용해 데이터들의 형태를 다양하게 저장할 수 있다.\n",
    "  \n",
    "    ex) 정수, 실수, 문자열, bool(true of false), 리스트 등\n",
    " \n",
    "   \n",
    "* 자료형은 컴퓨터가 이해할 수 있는 데이터의 종류이기 때문에 **정수 1과 문자 '1'은 엄연히 다르다.**\n",
    "  \n",
    "    \n",
    "* 자료형을 확인하기 위해선 type() 함수를 사용한다.\n",
    "  \n",
    "    1) int : 정수를 표현하는데 사용한다."
   ]
  },
  {
   "cell_type": "code",
   "execution_count": 16,
   "metadata": {},
   "outputs": [
    {
     "name": "stdout",
     "output_type": "stream",
     "text": [
      "a의 자료형은  <class 'int'> 값은 1\n"
     ]
    }
   ],
   "source": [
    "a = 1\n",
    "print(\"a의 자료형은 \", type(a), \"값은\", a)"
   ]
  },
  {
   "cell_type": "markdown",
   "metadata": {},
   "source": [
    "    2) float : 실수를 표현하는데 사용한다."
   ]
  },
  {
   "cell_type": "code",
   "execution_count": 17,
   "metadata": {},
   "outputs": [
    {
     "name": "stdout",
     "output_type": "stream",
     "text": [
      "b의 자료형은  <class 'float'> 값은 1.43\n"
     ]
    }
   ],
   "source": [
    "b = 1.43\n",
    "print(\"b의 자료형은 \", type(b), \"값은\", b)"
   ]
  },
  {
   "cell_type": "markdown",
   "metadata": {},
   "source": [
    "    3) str : 문자의 모임을(문자열) 표현하는데 사용한다. 아래와 같은 다양한 표기법이 존재한다.\n",
    "      ex) 'a', 'abc', \"cheeze\", \"\"\"hello jamcoding\"\"\"\n",
    "    \"을 세 개 사용한 \"\"\"은 줄을 바꾼 문자열도 인식한다."
   ]
  },
  {
   "cell_type": "code",
   "execution_count": 20,
   "metadata": {},
   "outputs": [
    {
     "name": "stdout",
     "output_type": "stream",
     "text": [
      "c1의 자료형은  <class 'str'> 값은 hi\n",
      "c2의 자료형은  <class 'str'> 값은 hi\n",
      "c3의 자료형은  <class 'str'> 값은 I \n",
      "my \n",
      "me \n",
      "mine\n"
     ]
    }
   ],
   "source": [
    "c1 = 'hi'\n",
    "c2 = \"hi\"\n",
    "c3 = \"\"\"I \n",
    "my \n",
    "me \n",
    "mine\"\"\"\n",
    "print(\"c1의 자료형은 \", type(c1), \"값은\", c1)\n",
    "print(\"c2의 자료형은 \", type(c2), \"값은\", c2)\n",
    "print(\"c3의 자료형은 \", type(c3), \"값은\", c3)"
   ]
  },
  {
   "cell_type": "markdown",
   "metadata": {},
   "source": [
    "    4) bool : 참(True)과 거짓(False)을 구분하는 데 사용한다."
   ]
  },
  {
   "cell_type": "code",
   "execution_count": 25,
   "metadata": {},
   "outputs": [
    {
     "name": "stdout",
     "output_type": "stream",
     "text": [
      "d1의 자료형은  <class 'bool'> 값은 True\n",
      "d2의 자료형은  <class 'bool'> 값은 False\n"
     ]
    }
   ],
   "source": [
    "d1 = True\n",
    "d2 = False\n",
    "print(\"d1의 자료형은 \", type(d1), \"값은\", d1)\n",
    "print(\"d2의 자료형은 \", type(d2), \"값은\", d2)"
   ]
  },
  {
   "cell_type": "markdown",
   "metadata": {},
   "source": [
    "    5) list : 다양한 자료들을 순서대로 보관하는데 사용한다.\n",
    "    [ ] 안에 담을 내용들을 쉼표로 구분해 넣는다."
   ]
  },
  {
   "cell_type": "code",
   "execution_count": 26,
   "metadata": {},
   "outputs": [
    {
     "name": "stdout",
     "output_type": "stream",
     "text": [
      "e의 자료형은  <class 'list'> 값은 ['first', 2, 3.14, True]\n"
     ]
    }
   ],
   "source": [
    "e = ['first', 2, 3.14, True]\n",
    "print(\"e의 자료형은 \", type(e), \"값은\", e)"
   ]
  },
  {
   "cell_type": "markdown",
   "metadata": {},
   "source": [
    "### 4. 다양한 출력 방법\n",
    "\n",
    "* 1) 두 개의 문자열을 붙여서 출력하고 싶으면 '+'를 사용한다."
   ]
  },
  {
   "cell_type": "code",
   "execution_count": 28,
   "metadata": {},
   "outputs": [
    {
     "name": "stdout",
     "output_type": "stream",
     "text": [
      "My name is Jam\n",
      "My name is  Jam\n"
     ]
    }
   ],
   "source": [
    "str1 = \"My name is \"\n",
    "str2 = \"Jam\"\n",
    "#아래 두 개의 출력 결과는 어떻게 다를까?\n",
    "print(str1+str2)\n",
    "print(str1, str2)"
   ]
  },
  {
   "cell_type": "markdown",
   "metadata": {},
   "source": [
    "* 2) print 함수를 사용할 때 ','로 구분되는 데이터들 사이에는 공백이 추가된다.\n",
    "   \n",
    "  이를 바꾸고 싶으면 sep 인자에 값을 넣어준다."
   ]
  },
  {
   "cell_type": "code",
   "execution_count": 30,
   "metadata": {},
   "outputs": [
    {
     "name": "stdout",
     "output_type": "stream",
     "text": [
      "아버지가 방에 들어가신다.\n",
      "아버지가방에들어가신다.\n",
      "아버지가\n",
      "방에\n",
      "들어가신다.\n"
     ]
    }
   ],
   "source": [
    "print(\"아버지가\", \"방에\", \"들어가신다.\")\n",
    "print(\"아버지가\", \"방에\", \"들어가신다.\", sep = '')\n",
    "#sep = ''는 데이터들 사이를 구분짓는 것으로 아무것도 안 넣겠다는 뜻.\n",
    "print(\"아버지가\", \"방에\", \"들어가신다.\", sep = '\\n')\n",
    "#sep = '\\n'은 데이터들 사이를 구분짓는 것으로 줄바꿈을 넣겠다는 뜻."
   ]
  },
  {
   "cell_type": "markdown",
   "metadata": {},
   "source": [
    "위의 예제를 통해서 print() 함수의 기본 sep 값은 공백('띄어쓰기')이라는 것을 알 수 있다!"
   ]
  },
  {
   "cell_type": "markdown",
   "metadata": {},
   "source": [
    "* 3) print 함수를 사용하고나면 자동으로 한 줄을 바꾼다.\n",
    "  \n",
    "  이를 바꾸고 싶으면 end 인자에 값을 넣어준다."
   ]
  },
  {
   "cell_type": "code",
   "execution_count": 35,
   "metadata": {},
   "outputs": [
    {
     "name": "stdout",
     "output_type": "stream",
     "text": [
      "테스트\n",
      "테스트실험. 위의 print에선 줄바꿈이 일어나지 않았다!\n"
     ]
    }
   ],
   "source": [
    "print(\"테스트\")\n",
    "print(\"테스트\", end = '실험. ')\n",
    "print(\"위의 print에선 줄바꿈이 일어나지 않았다!\")"
   ]
  },
  {
   "cell_type": "markdown",
   "metadata": {},
   "source": [
    "위의 예제를 통해서 print() 함수의 기본 end 값은 줄바꿈('\\n')이라는 것을 알 수 있다!\n",
    "  \n",
    "* 4) "
   ]
  },
  {
   "cell_type": "code",
   "execution_count": null,
   "metadata": {},
   "outputs": [],
   "source": []
  },
  {
   "cell_type": "code",
   "execution_count": null,
   "metadata": {},
   "outputs": [],
   "source": []
  },
  {
   "cell_type": "code",
   "execution_count": null,
   "metadata": {},
   "outputs": [],
   "source": []
  },
  {
   "cell_type": "code",
   "execution_count": null,
   "metadata": {},
   "outputs": [],
   "source": []
  },
  {
   "cell_type": "code",
   "execution_count": null,
   "metadata": {},
   "outputs": [],
   "source": []
  },
  {
   "cell_type": "code",
   "execution_count": null,
   "metadata": {},
   "outputs": [],
   "source": []
  },
  {
   "cell_type": "markdown",
   "metadata": {},
   "source": [
    "\n",
    "### 4. 출력변환\n",
    "\n",
    "\n",
    "### 5. 사칙연산"
   ]
  }
 ],
 "metadata": {
  "kernelspec": {
   "display_name": "Python 3",
   "language": "python",
   "name": "python3"
  },
  "language_info": {
   "codemirror_mode": {
    "name": "ipython",
    "version": 3
   },
   "file_extension": ".py",
   "mimetype": "text/x-python",
   "name": "python",
   "nbconvert_exporter": "python",
   "pygments_lexer": "ipython3",
   "version": "3.7.3"
  }
 },
 "nbformat": 4,
 "nbformat_minor": 2
}
