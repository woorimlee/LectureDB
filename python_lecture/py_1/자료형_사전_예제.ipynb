{
 "cells": [
  {
   "cell_type": "code",
   "execution_count": 3,
   "metadata": {},
   "outputs": [
    {
     "name": "stdout",
     "output_type": "stream",
     "text": [
      "{'김': '1반', '이': '2반', '박': '1반'}\n",
      "<class 'dict'>\n"
     ]
    }
   ],
   "source": [
    "school = {'김':'1반', '이':'2반', '박':'1반'}\n",
    "print(school, type(school), sep='\\n')"
   ]
  },
  {
   "cell_type": "code",
   "execution_count": 5,
   "metadata": {},
   "outputs": [
    {
     "name": "stdout",
     "output_type": "stream",
     "text": [
      "1반\n"
     ]
    }
   ],
   "source": [
    "print(school['김'])"
   ]
  },
  {
   "cell_type": "code",
   "execution_count": 7,
   "metadata": {},
   "outputs": [
    {
     "name": "stdout",
     "output_type": "stream",
     "text": [
      "{'김': '5반', '이': '2반', '박': '1반', '최': '4반'}\n"
     ]
    }
   ],
   "source": [
    "school['김'] = '5반'  #기존의 Key에 새로운 Value 저장\n",
    "school['최'] = '4반'  #새로운 Key와 Value 저장\n",
    "print(school)"
   ]
  },
  {
   "cell_type": "code",
   "execution_count": 12,
   "metadata": {},
   "outputs": [
    {
     "name": "stdout",
     "output_type": "stream",
     "text": [
      "{'string': 'jamcoding', 1: 'a', 2: 'b', '좌표': (5, 6), ('apple', 'tomato'): 'red'}\n"
     ]
    },
    {
     "ename": "TypeError",
     "evalue": "unhashable type: 'list'",
     "output_type": "error",
     "traceback": [
      "\u001b[1;31m---------------------------------------------------------------------------\u001b[0m",
      "\u001b[1;31mTypeError\u001b[0m                                 Traceback (most recent call last)",
      "\u001b[1;32m<ipython-input-12-fd3649f6c8f7>\u001b[0m in \u001b[0;36m<module>\u001b[1;34m()\u001b[0m\n\u001b[0;32m      7\u001b[0m \u001b[0mprint\u001b[0m\u001b[1;33m(\u001b[0m\u001b[0md\u001b[0m\u001b[1;33m)\u001b[0m\u001b[1;33m\u001b[0m\u001b[0m\n\u001b[0;32m      8\u001b[0m \u001b[1;33m\u001b[0m\u001b[0m\n\u001b[1;32m----> 9\u001b[1;33m \u001b[0md\u001b[0m\u001b[1;33m[\u001b[0m\u001b[1;33m[\u001b[0m\u001b[1;36m1\u001b[0m\u001b[1;33m,\u001b[0m \u001b[1;36m2\u001b[0m\u001b[1;33m,\u001b[0m \u001b[1;36m3\u001b[0m\u001b[1;33m]\u001b[0m\u001b[1;33m]\u001b[0m \u001b[1;33m=\u001b[0m \u001b[1;34m'list error'\u001b[0m\u001b[1;33m\u001b[0m\u001b[0m\n\u001b[0m",
      "\u001b[1;31mTypeError\u001b[0m: unhashable type: 'list'"
     ]
    }
   ],
   "source": [
    "d = {}\n",
    "d['string'] = 'jamcoding'\n",
    "d[1] = 'a'\n",
    "d[2] = 'b'\n",
    "d['좌표'] = (5, 6)\n",
    "d[('apple', 'tomato')] = 'red'\n",
    "print(d)\n",
    "\n",
    "d[[1, 2, 3]] = 'list error'"
   ]
  },
  {
   "cell_type": "code",
   "execution_count": 15,
   "metadata": {},
   "outputs": [
    {
     "name": "stdout",
     "output_type": "stream",
     "text": [
      "dict_values([1, 2, 3])\n",
      "dict_keys(['a', 'b', 'c'])\n",
      "dict_items([('a', 1), ('b', 2), ('c', 3)])\n"
     ]
    }
   ],
   "source": [
    "d = {'a' : 1, 'b' : 2, 'c' : 3}\n",
    "values = d.values()\n",
    "print(values)\n",
    "keys = d.keys()\n",
    "print(keys)\n",
    "items = d.items()\n",
    "print(items)"
   ]
  },
  {
   "cell_type": "code",
   "execution_count": 30,
   "metadata": {},
   "outputs": [
    {
     "name": "stdout",
     "output_type": "stream",
     "text": [
      "{'주현': 1, '슬기': 2, '승완': 1, '수영': 3, '예림': 4}\n",
      "{1: ['주현', '승완'], 2: ['슬기'], 3: ['수영'], 4: ['예림']}\n"
     ]
    }
   ],
   "source": [
    "friend = {'주현':1, '슬기':2, '승완':1, '수영':3, '예림':4}\n",
    "print(friend)\n",
    "items = friend.items()\n",
    "d = {}\n",
    "for name, group in items : \n",
    "    if d.get(group) == None :\n",
    "        d[group] = [name]\n",
    "    else :\n",
    "        d[group].append(name)\n",
    "print(d)"
   ]
  },
  {
   "cell_type": "code",
   "execution_count": 34,
   "metadata": {},
   "outputs": [
    {
     "data": {
      "text/plain": [
       "{1: [], 2: [], 3: [], 4: []}"
      ]
     },
     "execution_count": 34,
     "metadata": {},
     "output_type": "execute_result"
    }
   ],
   "source": [
    "values = friend.values()\n",
    "d = dict.fromkeys(values, [])\n",
    "d = dict(for name, group in )"
   ]
  },
  {
   "cell_type": "code",
   "execution_count": 43,
   "metadata": {},
   "outputs": [
    {
     "name": "stdout",
     "output_type": "stream",
     "text": [
      "['파이썬은', '낮은', '난이도를', '가진', '언어다.', '동시에', '범용성과', '확장성을', '가진', '언어다.', '전', '세계의', '언어', '중에서', '파이썬은', '정말', '최고의', '언어다']\n",
      "{'파이썬은': 2, '낮은': 1, '난이도를': 1, '가진': 2, '언어다.': 2, '동시에': 1, '범용성과': 1, '확장성을': 1, '전': 1, '세계의': 1, '언어': 1, '중에서': 1, '정말': 1, '최고의': 1, '언어다': 1}\n"
     ]
    }
   ],
   "source": [
    "s = \"\"\"파이썬은 낮은 난이도를 가진 언어다. 동시에 범용성과 확장성을 가진 언어다.\n",
    "전 세계의 언어 중에서 파이썬은 정말 최고의 언어다\"\"\"\n",
    "word = s.split()\n",
    "count = {}\n",
    "for i in word :\n",
    "    if i in count :\n",
    "        count[i] += 1\n",
    "    else :\n",
    "        count[i] = 1\n",
    "print(count)"
   ]
  },
  {
   "cell_type": "code",
   "execution_count": 45,
   "metadata": {},
   "outputs": [
    {
     "name": "stdout",
     "output_type": "stream",
     "text": [
      "15\n",
      "5\n"
     ]
    }
   ],
   "source": [
    "def add(a, b) :\n",
    "    return a + b\n",
    "def sub(a, b) :\n",
    "    return a - b\n",
    "d_func = {1 : add, 2 : sub}\n",
    "print(d_func[1](10, 5))\n",
    "print(d_func[2](10,5))"
   ]
  },
  {
   "cell_type": "code",
   "execution_count": null,
   "metadata": {},
   "outputs": [],
   "source": []
  }
 ],
 "metadata": {
  "kernelspec": {
   "display_name": "Python 3",
   "language": "python",
   "name": "python3"
  },
  "language_info": {
   "codemirror_mode": {
    "name": "ipython",
    "version": 3
   },
   "file_extension": ".py",
   "mimetype": "text/x-python",
   "name": "python",
   "nbconvert_exporter": "python",
   "pygments_lexer": "ipython3",
   "version": "3.6.4"
  }
 },
 "nbformat": 4,
 "nbformat_minor": 2
}
