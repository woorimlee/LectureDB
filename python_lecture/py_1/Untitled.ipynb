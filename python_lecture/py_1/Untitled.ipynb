{
 "cells": [
  {
   "cell_type": "code",
   "execution_count": 12,
   "metadata": {},
   "outputs": [
    {
     "name": "stdout",
     "output_type": "stream",
     "text": [
      "3\n",
      "9\n",
      "5\n",
      "1 2 3 4 5 6 7 8 9\n",
      "1 2 3 4 5 \n",
      "9\n",
      "5\n",
      "9 8 7 6 5 4 3 2 1\n",
      "9 8 7 6 5 \n",
      "d\n"
     ]
    },
    {
     "ename": "ValueError",
     "evalue": "invalid literal for int() with base 10: 'd'",
     "output_type": "error",
     "traceback": [
      "\u001b[1;31m---------------------------------------------------------------------------\u001b[0m",
      "\u001b[1;31mValueError\u001b[0m                                Traceback (most recent call last)",
      "\u001b[1;32m<ipython-input-12-6b3833629717>\u001b[0m in \u001b[0;36m<module>\u001b[1;34m\u001b[0m\n\u001b[0;32m      5\u001b[0m \u001b[0mT\u001b[0m \u001b[1;33m=\u001b[0m \u001b[0mint\u001b[0m\u001b[1;33m(\u001b[0m\u001b[0minput\u001b[0m\u001b[1;33m(\u001b[0m\u001b[1;33m)\u001b[0m\u001b[1;33m)\u001b[0m\u001b[1;33m\u001b[0m\u001b[1;33m\u001b[0m\u001b[0m\n\u001b[0;32m      6\u001b[0m \u001b[1;32mfor\u001b[0m \u001b[0m_\u001b[0m \u001b[1;32min\u001b[0m \u001b[0mrange\u001b[0m\u001b[1;33m(\u001b[0m\u001b[0mT\u001b[0m\u001b[1;33m)\u001b[0m \u001b[1;33m:\u001b[0m\u001b[1;33m\u001b[0m\u001b[1;33m\u001b[0m\u001b[0m\n\u001b[1;32m----> 7\u001b[1;33m     \u001b[0mM\u001b[0m \u001b[1;33m=\u001b[0m \u001b[0mint\u001b[0m\u001b[1;33m(\u001b[0m\u001b[0minput\u001b[0m\u001b[1;33m(\u001b[0m\u001b[1;33m)\u001b[0m\u001b[1;33m)\u001b[0m\u001b[1;33m\u001b[0m\u001b[1;33m\u001b[0m\u001b[0m\n\u001b[0m\u001b[0;32m      8\u001b[0m     \u001b[0mmax_h\u001b[0m \u001b[1;33m=\u001b[0m \u001b[1;33m[\u001b[0m\u001b[1;33m]\u001b[0m\u001b[1;33m\u001b[0m\u001b[1;33m\u001b[0m\u001b[0m\n\u001b[0;32m      9\u001b[0m     \u001b[0mmin_h\u001b[0m \u001b[1;33m=\u001b[0m \u001b[1;33m[\u001b[0m\u001b[1;33m]\u001b[0m\u001b[1;33m\u001b[0m\u001b[1;33m\u001b[0m\u001b[0m\n",
      "\u001b[1;31mValueError\u001b[0m: invalid literal for int() with base 10: 'd'"
     ]
    }
   ],
   "source": [
    "import sys\n",
    "import heapq\n",
    "input = sys.stdin.readline\n",
    "\n",
    "T = int(input())\n",
    "for _ in range(T) :\n",
    "    M = int(input())\n",
    "    max_h = []\n",
    "    min_h = []\n",
    "    ans = []\n",
    "    print(M//2 + 1)\n",
    "    while M :\n",
    "        seq = list(map(int, input().split()))\n",
    "        for j, i in enumerate(seq, start = 1) : \n",
    "            #두 힙의 길이가 같은 경우\n",
    "            #max_heap에 넣음\n",
    "            if len(max_h) <= len(min_h) :\n",
    "                heapq.heappush(max_h, -i)\n",
    "            #두 힙의 길이가 다른 경우\n",
    "            #min_heap에 넣음\n",
    "            else :\n",
    "                heapq.heappush(min_h, i)\n",
    "                \n",
    "            if j % 2 == 1 :\n",
    "            #min_heap의 top보다 max_heap의 top이 큰 경우 둘을 swap\n",
    "                if(max_h and min_h and -max_h[0] > min_h[0]) :\n",
    "                    n1 = heapq.heappop(max_h)\n",
    "                    n2 = heapq.heappop(min_h)\n",
    "                    heapq.heappush(max_h, -n2)\n",
    "                    heapq.heappush(min_h, -n1)\n",
    "                ans.append(-max_h[0])\n",
    "        M -= len(seq)\n",
    "            \n",
    "    for i in range(len(ans)) :\n",
    "        if i != 0 and i%10 == 0 :\n",
    "            print()\n",
    "        print(ans[i], end=' ')\n",
    "    print()"
   ]
  }
 ],
 "metadata": {
  "kernelspec": {
   "display_name": "Python 3",
   "language": "python",
   "name": "python3"
  },
  "language_info": {
   "codemirror_mode": {
    "name": "ipython",
    "version": 3
   },
   "file_extension": ".py",
   "mimetype": "text/x-python",
   "name": "python",
   "nbconvert_exporter": "python",
   "pygments_lexer": "ipython3",
   "version": "3.8.3"
  }
 },
 "nbformat": 4,
 "nbformat_minor": 2
}
