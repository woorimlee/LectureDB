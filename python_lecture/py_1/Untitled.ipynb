{
 "cells": [
  {
   "cell_type": "code",
   "execution_count": 18,
   "metadata": {},
   "outputs": [
    {
     "name": "stdout",
     "output_type": "stream",
     "text": [
      "5\n",
      "1 2 1 3 1 2 1 4 1 2 1 3 1 2 1 5 1 2 1 3 1 2 1 4 1 2 1 3 1 2 1\n",
      "5 \n",
      "4 4 \n",
      "3 3 3 3 \n",
      "2 2 2 2 2 2 2 2 \n",
      "1 1 1 1 1 1 1 1 1 1 1 1 1 1 1 1 \n"
     ]
    }
   ],
   "source": [
    "K = int(input())\n",
    "Building = input().split()\n",
    "que = [len(Building)//2]\n",
    "\n",
    "while K :\n",
    "    size = len(que)\n",
    "    for _ in range(size) :\n",
    "        index = que.pop(0)\n",
    "        print(Building[index], end =' ')\n",
    "        if K != 1 :\n",
    "            que.append(index - (2**(K-2)-1) - 1)\n",
    "            que.append(index + (2**(K-2)-1) + 1)\n",
    "    K -= 1\n",
    "    print()\n",
    "    \n",
    "\"\"\"\n",
    "입력 : \n",
    "5\n",
    "1 2 1 3 1 2 1 4 1 2 1 3 1 2 1 5 1 2 1 3 1 2 1 4 1 2 1 3 1 2 1\n",
    "출력 : \n",
    "5 \n",
    "4 4 \n",
    "3 3 3 3 \n",
    "2 2 2 2 2 2 2 2 \n",
    "1 1 1 1 1 1 1 1 1 1 1 1 1 1 1 1 \n",
    "\"\"\""
   ]
  }
 ],
 "metadata": {
  "kernelspec": {
   "display_name": "Python 3",
   "language": "python",
   "name": "python3"
  },
  "language_info": {
   "codemirror_mode": {
    "name": "ipython",
    "version": 3
   },
   "file_extension": ".py",
   "mimetype": "text/x-python",
   "name": "python",
   "nbconvert_exporter": "python",
   "pygments_lexer": "ipython3",
   "version": "3.8.3"
  }
 },
 "nbformat": 4,
 "nbformat_minor": 2
}
