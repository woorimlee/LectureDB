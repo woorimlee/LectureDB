{
 "cells": [
  {
   "cell_type": "code",
   "execution_count": 2,
   "metadata": {},
   "outputs": [
    {
     "name": "stdout",
     "output_type": "stream",
     "text": [
      "0 의 자식 노드 : [1, 2]\n",
      "1 의 자식 노드 : [3, 4, 5]\n",
      "2 의 자식 노드 : [6]\n",
      "3 의 자식 노드 : [7]\n",
      "4 의 자식 노드 : []\n",
      "5 의 자식 노드 : [8, 9]\n",
      "6 의 자식 노드 : []\n",
      "7 의 자식 노드 : []\n",
      "8 의 자식 노드 : []\n",
      "9 의 자식 노드 : []\n"
     ]
    }
   ],
   "source": [
    "tree = [\n",
    "    [1, 2],\n",
    "    [3, 4, 5],\n",
    "    [6],\n",
    "    [7],\n",
    "    [],\n",
    "    [8, 9],\n",
    "    [],\n",
    "    [],\n",
    "    [],\n",
    "    []\n",
    "]\n",
    "for i, j in enumerate(tree) :\n",
    "    print(i, \"의 자식 노드 :\",j)"
   ]
  },
  {
   "cell_type": "code",
   "execution_count": null,
   "metadata": {},
   "outputs": [],
   "source": []
  }
 ],
 "metadata": {
  "kernelspec": {
   "display_name": "Python 3",
   "language": "python",
   "name": "python3"
  },
  "language_info": {
   "codemirror_mode": {
    "name": "ipython",
    "version": 3
   },
   "file_extension": ".py",
   "mimetype": "text/x-python",
   "name": "python",
   "nbconvert_exporter": "python",
   "pygments_lexer": "ipython3",
   "version": "3.8.3"
  }
 },
 "nbformat": 4,
 "nbformat_minor": 2
}
