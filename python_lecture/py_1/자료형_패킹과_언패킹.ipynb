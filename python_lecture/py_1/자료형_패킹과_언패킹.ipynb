{
 "cells": [
  {
   "cell_type": "code",
   "execution_count": 5,
   "metadata": {},
   "outputs": [
    {
     "name": "stdout",
     "output_type": "stream",
     "text": [
      "(1, 2, 'jam', 'coding')\n",
      "<class 'tuple'>\n"
     ]
    }
   ],
   "source": [
    "pack= 1, 2, \"jam\", \"coding\"\n",
    "print(pack, type(pack), sep='\\n')"
   ]
  },
  {
   "cell_type": "code",
   "execution_count": 7,
   "metadata": {},
   "outputs": [
    {
     "name": "stdout",
     "output_type": "stream",
     "text": [
      "1\n",
      "2\n",
      "jam\n",
      "coding\n"
     ]
    }
   ],
   "source": [
    "x, y, str_a, str_b = pack\n",
    "print(x, y, str_a, str_b, sep='\\n')"
   ]
  },
  {
   "cell_type": "code",
   "execution_count": 13,
   "metadata": {},
   "outputs": [
    {
     "name": "stdout",
     "output_type": "stream",
     "text": [
      "1 ['a', 'b', 2, 'c', 3.14]\n",
      "[1, 'a', 'b', 2, 'c'] 3.14\n",
      "1 ['a', 'b', 2, 'c'] 3.14\n"
     ]
    }
   ],
   "source": [
    "pack = (1, 'a', 'b', 2, 'c', 3.14)\n",
    "a, *b = pack\n",
    "print(a, b)\n",
    "*a, b = pack\n",
    "print(a, b)\n",
    "a, *b, c = pack\n",
    "print(a, b, c)"
   ]
  },
  {
   "cell_type": "code",
   "execution_count": 31,
   "metadata": {},
   "outputs": [
    {
     "name": "stdout",
     "output_type": "stream",
     "text": [
      "1 [3, 5]\n"
     ]
    }
   ],
   "source": [
    "a, b = ['banana', 'kiwi']\n",
    "a, b = 'AB'\n",
    "a, b = range(1, 5, 2)\n",
    "a, *b = range(1, 6, 2)\n",
    "print(a, b)"
   ]
  },
  {
   "cell_type": "code",
   "execution_count": null,
   "metadata": {},
   "outputs": [],
   "source": []
  }
 ],
 "metadata": {
  "kernelspec": {
   "display_name": "Python 3",
   "language": "python",
   "name": "python3"
  },
  "language_info": {
   "codemirror_mode": {
    "name": "ipython",
    "version": 3
   },
   "file_extension": ".py",
   "mimetype": "text/x-python",
   "name": "python",
   "nbconvert_exporter": "python",
   "pygments_lexer": "ipython3",
   "version": "3.6.7"
  }
 },
 "nbformat": 4,
 "nbformat_minor": 2
}
