{
 "cells": [
  {
   "cell_type": "code",
   "execution_count": 1,
   "metadata": {},
   "outputs": [
    {
     "name": "stdout",
     "output_type": "stream",
     "text": [
      "{1, 2, 3}\n"
     ]
    }
   ],
   "source": [
    "s = {1, 2, 3, 1, 2, 3}\n",
    "print(s)"
   ]
  },
  {
   "cell_type": "code",
   "execution_count": 6,
   "metadata": {},
   "outputs": [
    {
     "name": "stdout",
     "output_type": "stream",
     "text": [
      "{'a', 'c', 'd', 'b'}\n",
      "{1, 2, 4, 5, 6, '가'}\n"
     ]
    }
   ],
   "source": [
    "s = set('abcdd')\n",
    "print(s)\n",
    "s = set([1, 5, 2, 4, 4, 5, 6, '가'])\n",
    "print(s)"
   ]
  },
  {
   "cell_type": "code",
   "execution_count": 10,
   "metadata": {},
   "outputs": [
    {
     "name": "stdout",
     "output_type": "stream",
     "text": [
      "{1, 2, 3, 4, 5, 6, 7, 8, 9, 10}\n",
      "{8, 3, 4}\n",
      "{1, 2, 10, 9}\n",
      "{1, 2, 5, 6, 7, 9, 10}\n"
     ]
    }
   ],
   "source": [
    "A = {1, 2, 3, 4, 8, 9, 10}\n",
    "B = {3, 4, 5, 6, 7, 8}\n",
    "print(A.union(B)) # A | B와 동일\n",
    "print(A.intersection(B)) # A & B와 동일\n",
    "print(A.difference(B)) # A - B와 동일\n",
    "print(A.symmetric_difference(B)) # A ^ B와 동일\n",
    "A.union\n",
    "print(A)"
   ]
  },
  {
   "cell_type": "code",
   "execution_count": null,
   "metadata": {},
   "outputs": [],
   "source": []
  }
 ],
 "metadata": {
  "kernelspec": {
   "display_name": "Python 3",
   "language": "python",
   "name": "python3"
  },
  "language_info": {
   "codemirror_mode": {
    "name": "ipython",
    "version": 3
   },
   "file_extension": ".py",
   "mimetype": "text/x-python",
   "name": "python",
   "nbconvert_exporter": "python",
   "pygments_lexer": "ipython3",
   "version": "3.6.4"
  }
 },
 "nbformat": 4,
 "nbformat_minor": 2
}
