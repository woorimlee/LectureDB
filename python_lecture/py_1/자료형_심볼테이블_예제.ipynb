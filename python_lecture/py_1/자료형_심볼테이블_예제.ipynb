{
 "cells": [
  {
   "cell_type": "code",
   "execution_count": 5,
   "metadata": {},
   "outputs": [
    {
     "data": {
      "text/plain": [
       "{'In': ['',\n",
       "  \"a = 1\\nb = '가'\\nc = 52\",\n",
       "  \"a = 1\\nb = '가'\\nc = 52\",\n",
       "  \"a = 1\\nb = '가'\\nc = 52\\n\\nglobals()\",\n",
       "  \"a = 1\\nb = '가'\\nc = 52\\n\\nprint(globals())\",\n",
       "  \"a = 1\\nb = '가'\\nc = 52\\n\\nglobals()\"],\n",
       " 'Out': {3: {...}},\n",
       " '_': {...},\n",
       " '_3': {...},\n",
       " '__': '',\n",
       " '___': '',\n",
       " '__builtin__': <module 'builtins' (built-in)>,\n",
       " '__builtins__': <module 'builtins' (built-in)>,\n",
       " '__doc__': 'Automatically created module for IPython interactive environment',\n",
       " '__loader__': None,\n",
       " '__name__': '__main__',\n",
       " '__package__': None,\n",
       " '__spec__': None,\n",
       " '_dh': ['C:\\\\Users\\\\and_l\\\\Desktop\\\\수업 준비\\\\python_lecture\\\\py_1'],\n",
       " '_i': \"a = 1\\nb = '가'\\nc = 52\\n\\nprint(globals())\",\n",
       " '_i1': \"a = 1\\nb = '가'\\nc = 52\",\n",
       " '_i2': \"a = 1\\nb = '가'\\nc = 52\",\n",
       " '_i3': \"a = 1\\nb = '가'\\nc = 52\\n\\nglobals()\",\n",
       " '_i4': \"a = 1\\nb = '가'\\nc = 52\\n\\nprint(globals())\",\n",
       " '_i5': \"a = 1\\nb = '가'\\nc = 52\\n\\nglobals()\",\n",
       " '_ih': ['',\n",
       "  \"a = 1\\nb = '가'\\nc = 52\",\n",
       "  \"a = 1\\nb = '가'\\nc = 52\",\n",
       "  \"a = 1\\nb = '가'\\nc = 52\\n\\nglobals()\",\n",
       "  \"a = 1\\nb = '가'\\nc = 52\\n\\nprint(globals())\",\n",
       "  \"a = 1\\nb = '가'\\nc = 52\\n\\nglobals()\"],\n",
       " '_ii': \"a = 1\\nb = '가'\\nc = 52\\n\\nglobals()\",\n",
       " '_iii': \"a = 1\\nb = '가'\\nc = 52\",\n",
       " '_oh': {3: {...}},\n",
       " 'a': 1,\n",
       " 'b': '가',\n",
       " 'c': 52,\n",
       " 'exit': <IPython.core.autocall.ZMQExitAutocall at 0x283a46b4d68>,\n",
       " 'get_ipython': <bound method InteractiveShell.get_ipython of <ipykernel.zmqshell.ZMQInteractiveShell object at 0x00000283A4662CC0>>,\n",
       " 'quit': <IPython.core.autocall.ZMQExitAutocall at 0x283a46b4d68>}"
      ]
     },
     "execution_count": 5,
     "metadata": {},
     "output_type": "execute_result"
    }
   ],
   "source": [
    "a = 1\n",
    "b = '가'\n",
    "c = 52\n",
    "\n",
    "globals()"
   ]
  },
  {
   "cell_type": "code",
   "execution_count": null,
   "metadata": {},
   "outputs": [],
   "source": []
  }
 ],
 "metadata": {
  "kernelspec": {
   "display_name": "Python 3",
   "language": "python",
   "name": "python3"
  },
  "language_info": {
   "codemirror_mode": {
    "name": "ipython",
    "version": 3
   },
   "file_extension": ".py",
   "mimetype": "text/x-python",
   "name": "python",
   "nbconvert_exporter": "python",
   "pygments_lexer": "ipython3",
   "version": "3.6.4"
  }
 },
 "nbformat": 4,
 "nbformat_minor": 2
}
