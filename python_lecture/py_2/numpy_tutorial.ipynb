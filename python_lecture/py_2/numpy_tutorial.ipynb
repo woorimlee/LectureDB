{
 "cells": [
  {
   "cell_type": "code",
   "execution_count": 18,
   "metadata": {},
   "outputs": [
    {
     "name": "stdout",
     "output_type": "stream",
     "text": [
      "<class 'numpy.ndarray'>\n",
      "1\n",
      "(3,)\n",
      "<class 'numpy.ndarray'>\n",
      "2\n",
      "(2, 3)\n",
      "1 2 4\n",
      "[[ 0.  0.]\n",
      " [ 0.  0.]]\n",
      "[[ 10.  10.  10.]\n",
      " [ 10.  10.  10.]\n",
      " [ 10.  10.  10.]] <class 'numpy.ndarray'>\n"
     ]
    },
    {
     "name": "stderr",
     "output_type": "stream",
     "text": [
      "C:\\ProgramData\\Anaconda3\\envs\\Python3\\lib\\site-packages\\numpy\\core\\numeric.py:301: FutureWarning: in the future, full((3, 3), 10) will return an array of dtype('int32')\n",
      "  format(shape, fill_value, array(fill_value).dtype), FutureWarning)\n"
     ]
    }
   ],
   "source": [
    "import numpy as np\n",
    "\n",
    "a = np.array([1, 2, 3])\n",
    "print(type(a), a.ndim, a.shape, sep='\\n')\n",
    "#ndim : number of array dimensions\n",
    "#shape : Tuple of array dimesions\n",
    "\n",
    "b = np.array([[1, 2, 3], [4, 5, 6]]) #2차원 배열 생성\n",
    "print(type(b), b.ndim, b.shape, sep='\\n')\n",
    "print(b[0,0], b[0, 1], b[1,0]) # 1 2 4\n",
    "\n",
    "#모든 값이 0인 배열 생성\n",
    "z = np.zeros((2,2))\n",
    "print(z)\n",
    "\n",
    "#모든 값이 특정 상수인 배열 생성\n",
    "c = np.full((3, 3), 10)\n",
    "print(c, type(c))\n"
   ]
  },
  {
   "cell_type": "code",
   "execution_count": null,
   "metadata": {},
   "outputs": [],
   "source": []
  }
 ],
 "metadata": {
  "kernelspec": {
   "display_name": "Python 3",
   "language": "python",
   "name": "python3"
  },
  "language_info": {
   "codemirror_mode": {
    "name": "ipython",
    "version": 3
   },
   "file_extension": ".py",
   "mimetype": "text/x-python",
   "name": "python",
   "nbconvert_exporter": "python",
   "pygments_lexer": "ipython3",
   "version": "3.6.7"
  }
 },
 "nbformat": 4,
 "nbformat_minor": 2
}
