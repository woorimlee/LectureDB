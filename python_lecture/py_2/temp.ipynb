{
 "cells": [
  {
   "cell_type": "code",
   "execution_count": 6,
   "metadata": {},
   "outputs": [
    {
     "name": "stdout",
     "output_type": "stream",
     "text": [
      "True False\n"
     ]
    }
   ],
   "source": [
    "print(True or True and False, (True or True)and False)\n",
    "#https://docs.python.org/3/reference/expressions.html#operator-precedence"
   ]
  },
  {
   "cell_type": "code",
   "execution_count": 8,
   "metadata": {},
   "outputs": [
    {
     "name": "stdout",
     "output_type": "stream",
     "text": [
      "True\n",
      "False\n",
      "True\n",
      "False\n"
     ]
    }
   ],
   "source": [
    "print(bool(1)) # all numbers are treated as true, except 0\n",
    "print(bool(0))\n",
    "print(bool(\"asf\")) # all strings are treated as true, except the empty string \"\"\n",
    "print(bool(\"\"))\n",
    "# Generally empty sequences (strings, lists, and other types we've yet to see like lists and tuples)\n",
    "# are \"falsey\" and the rest are \"truthy\""
   ]
  },
  {
   "cell_type": "code",
   "execution_count": null,
   "metadata": {},
   "outputs": [
    {
     "name": "stdout",
     "output_type": "stream",
     "text": [
      "You are in a land full of dragons. In front of\n",
      "you are two caves. In one cave the dragon is\n",
      "friendly and will give you his treasure. In the\n",
      "other, the dragon is greedy and hungry and will\n",
      "eat you on sight\n",
      "\n",
      "Which cave will you choose? (1 or 2)\n"
     ]
    }
   ],
   "source": [
    "import random\n",
    "import time\n",
    "\n",
    "def display_intro():\n",
    "       print(\"You are in a land full of dragons. In front of\")\n",
    "       print(\"you are two caves. In one cave the dragon is\")\n",
    "       print(\"friendly and will give you his treasure. In the\")\n",
    "       print(\"other, the dragon is greedy and hungry and will\")\n",
    "       print(\"eat you on sight\")\n",
    "       print()\n",
    "\n",
    "def choose_cave():\n",
    "       while True:\n",
    "           print(\"Which cave will you choose? (1 or 2)\")\n",
    "           cave = input()\n",
    "           if cave in ('1', '2'):\n",
    "               return cave\n",
    "\n",
    "def check_cave(choose_cave) :\n",
    "       print(\"You approach the cave...\")\n",
    "       time.sleep(2)\n",
    "       print(\"It is dark and spooky...\")\n",
    "       time.sleep(2)\n",
    "       print(\"A large dragon jumps out in front of you. He opens his jaws and...\")\n",
    "       print()\n",
    "       time.sleep(2)\n",
    "\n",
    "       friendlyCave = random.randint(1,2)\n",
    "\n",
    "       if chosenCave == str(friendlyCave):\n",
    "           print(\"gives you his treasure\")\n",
    "       else:\n",
    "           print(\"gobbles you down in one bite\")\n",
    "            \n",
    "        \n",
    "while True:\n",
    "       display_intro()\n",
    "       check_cave(choose_cave())\n",
    "       print(\"Would you like to play again? (yes or no)\")\n",
    "       if input() not in ('yes', 'y'):\n",
    "           break\n",
    "        \n",
    "        \n"
   ]
  },
  {
   "cell_type": "code",
   "execution_count": 3,
   "metadata": {},
   "outputs": [
    {
     "name": "stdout",
     "output_type": "stream",
     "text": [
      "[1, 200, 15, 16, 25, 10, 20]\n"
     ]
    }
   ],
   "source": [
    "monster = dict(\n",
    "       pikachu=[1, 200, 15, 16, 25, 10, 20],\n",
    "       minutes=0,\n",
    "       skill=0,\n",
    "       coins=0,\n",
    "       dough=0,\n",
    "       bribe=1,\n",
    "       debt=0,\n",
    "       term=0,\n",
    ")\n",
    "\n",
    "print(monster['pikachu'])"
   ]
  }
 ],
 "metadata": {
  "kernelspec": {
   "display_name": "Python 3",
   "language": "python",
   "name": "python3"
  },
  "language_info": {
   "codemirror_mode": {
    "name": "ipython",
    "version": 3
   },
   "file_extension": ".py",
   "mimetype": "text/x-python",
   "name": "python",
   "nbconvert_exporter": "python",
   "pygments_lexer": "ipython3",
   "version": "3.7.3"
  }
 },
 "nbformat": 4,
 "nbformat_minor": 2
}
