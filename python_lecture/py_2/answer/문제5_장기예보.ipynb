{
 "cells": [
  {
   "cell_type": "code",
   "execution_count": 1,
   "metadata": {},
   "outputs": [
    {
     "name": "stdout",
     "output_type": "stream",
     "text": [
      "1개월전망 전국 - 2019년 11월 28일 11시  발표\n",
      "\n",
      "  ○ 기온 전망 : 평년과 비슷하거나 높겠으나, 기온변화가 크겠으며, 예보3주(12.23.~12.29.)에 기온이 일시적으로 크게 떨어질 때가 있겠습니다.○ 강수량 전망 : 대체로 평년과 비슷하거나 많겠습니다.     \n",
      "\n"
     ]
    }
   ],
   "source": [
    "from bs4 import BeautifulSoup\n",
    "import urllib.request as req\n",
    "\n",
    "url = \"http://www.kma.go.kr/repositary/xml/fct/mon/img/fct_mon1rss_108_20191128.xml\"\n",
    "res = req.urlopen(url)\n",
    "soup = BeautifulSoup(res, \"html.parser\")\n",
    "title = soup.select_one(\"item > title\").string\n",
    "wf = soup.find(\"summary\")\n",
    "print(title)\n",
    "print(wf.text)"
   ]
  }
 ],
 "metadata": {
  "kernelspec": {
   "display_name": "Python 3",
   "language": "python",
   "name": "python3"
  },
  "language_info": {
   "codemirror_mode": {
    "name": "ipython",
    "version": 3
   },
   "file_extension": ".py",
   "mimetype": "text/x-python",
   "name": "python",
   "nbconvert_exporter": "python",
   "pygments_lexer": "ipython3",
   "version": "3.7.3"
  }
 },
 "nbformat": 4,
 "nbformat_minor": 2
}
