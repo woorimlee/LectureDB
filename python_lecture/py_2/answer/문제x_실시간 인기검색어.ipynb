{
 "cells": [
  {
   "cell_type": "code",
   "execution_count": 1,
   "metadata": {},
   "outputs": [
    {
     "name": "stdout",
     "output_type": "stream",
     "text": [
      "2019/12/03 19:36:16 \n",
      "실시간 인기 검색어\n",
      "\n",
      "1 차인하\n",
      "2 백투더퓨처\n",
      "3 전혜빈\n",
      "4 김규리\n",
      "5 2020 수능 만점자\n",
      "6 이태리 오징어순대집\n",
      "7 판타지오\n",
      "8 블랙위도우\n",
      "9 읍참마속\n",
      "10 베르테르 효과\n",
      "11 포렌식 뜻\n",
      "12 윤건영\n",
      "13 슬기로운 의사생활\n",
      "14 아이돌룸\n",
      "15 레전드 오브 타잔\n",
      "16 김조원\n",
      "17 일단 뜨겁게 청소하라\n",
      "18 더쇼\n",
      "19 유웨이\n",
      "20 발롱도르\n"
     ]
    }
   ],
   "source": [
    "import requests\n",
    "from bs4 import BeautifulSoup\n",
    "from datetime import datetime\n",
    "import keyboard\n",
    "\n",
    "while True :\n",
    "    try:\n",
    "        if keyboard.is_pressed('q'):\n",
    "            now = datetime.now()\n",
    "            print(datetime.today().strftime(\"%Y/%m/%d %H:%M:%S\"), \"\\n실시간 인기 검색어\\n\")\n",
    "            html = requests.get('http://www.naver.com/').text\n",
    "            soup = BeautifulSoup(html, 'html.parser')\n",
    "\n",
    "            title_list = soup.select('.PM_CL_realtimeKeyword_rolling span[class*=ah_k]')\n",
    "\n",
    "            for i, title in enumerate(title_list) :\n",
    "                print(i+1, title.text)\n",
    "    except:\n",
    "        break\n"
   ]
  }
 ],
 "metadata": {
  "kernelspec": {
   "display_name": "Python 3",
   "language": "python",
   "name": "python3"
  },
  "language_info": {
   "codemirror_mode": {
    "name": "ipython",
    "version": 3
   },
   "file_extension": ".py",
   "mimetype": "text/x-python",
   "name": "python",
   "nbconvert_exporter": "python",
   "pygments_lexer": "ipython3",
   "version": "3.7.3"
  }
 },
 "nbformat": 4,
 "nbformat_minor": 2
}
