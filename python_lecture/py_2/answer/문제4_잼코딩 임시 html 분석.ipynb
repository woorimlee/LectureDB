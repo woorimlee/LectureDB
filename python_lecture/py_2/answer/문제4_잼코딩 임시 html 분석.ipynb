{
 "cells": [
  {
   "cell_type": "code",
   "execution_count": 2,
   "metadata": {},
   "outputs": [
    {
     "name": "stdout",
     "output_type": "stream",
     "text": [
      "잼코딩 위치\n",
      "    : 대치\n",
      "    : 목동\n",
      "    : 잠실\n",
      "    : 세종\n",
      "잼코딩 특징\n",
      "    : 실적으로 증명\n",
      "    : 1등 코딩 학원\n",
      "    : 잼플레이룸\n"
     ]
    }
   ],
   "source": [
    "html = \"\"\"\n",
    "<html><body>\n",
    "<div id =\"jc_list\">\n",
    "  <h1>잼코딩 위치</h1>\n",
    "  <ul class=\"lists1\">\n",
    "    <li>대치</li>\n",
    "    <li>목동</li>\n",
    "    <li>잠실</li>\n",
    "    <li>세종</li>\n",
    "  </ul>\n",
    "</div>\n",
    "<div id =\"jc_message\">\n",
    "  <h1>잼코딩 특징</h1>\n",
    "  <ul class=\"lists2\">\n",
    "    <li>실적으로 증명</li>\n",
    "    <li>1등 코딩 학원</li>\n",
    "    <li>잼플레이룸</li>\n",
    "  </ul>\n",
    "</div>\n",
    "</body></html>\n",
    "\"\"\"\n",
    "\n",
    "from bs4 import BeautifulSoup\n",
    "soup = BeautifulSoup(html, \"html.parser\")\n",
    "h1 = soup.select(\"div > h1\") \n",
    "print(h1[0].text)\n",
    "li_list = soup.select(\"ul.lists1 > li\")\n",
    "for li in li_list : \n",
    "    print(\"    :\", li.string)\n",
    "print(h1[1].text)\n",
    "li_list = soup.select(\"ul.lists2 > li\")\n",
    "for li in li_list : \n",
    "    print(\"    :\", li.string)"
   ]
  }
 ],
 "metadata": {
  "kernelspec": {
   "display_name": "Python 3",
   "language": "python",
   "name": "python3"
  },
  "language_info": {
   "codemirror_mode": {
    "name": "ipython",
    "version": 3
   },
   "file_extension": ".py",
   "mimetype": "text/x-python",
   "name": "python",
   "nbconvert_exporter": "python",
   "pygments_lexer": "ipython3",
   "version": "3.7.3"
  }
 },
 "nbformat": 4,
 "nbformat_minor": 2
}
