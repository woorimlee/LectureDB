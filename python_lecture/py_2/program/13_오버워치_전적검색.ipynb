{
 "cells": [
  {
   "cell_type": "code",
   "execution_count": 4,
   "metadata": {},
   "outputs": [
    {
     "name": "stdout",
     "output_type": "stream",
     "text": [
      "\n",
      "10W\n",
      "1D\n",
      "9L\n",
      "\n",
      "게임을 플레이하지 않았습니다.\n"
     ]
    }
   ],
   "source": [
    "import requests\n",
    "from bs4 import BeautifulSoup\n",
    "\n",
    "url = \"https://overwatch.op.gg/detail/overview/98145129005188150027150\"\n",
    "html = requests.get(url).text\n",
    "soup = BeautifulSoup(html, 'html.parser')\n",
    "records = soup.select('div.PlayerSummaryStats > div:nth-child(1) > em')\n",
    "\n",
    "import os\n",
    "from filecmp import cmp\n",
    "from shutil import copyfile\n",
    "\n",
    "if os.path.isfile(\"전적.txt\") == False : #전적 검색을 처음하는 경우\n",
    "    print(\"전적을 처음으로 검색해봤습니다.\")\n",
    "    f = open(\"전적.txt\", \"w\")\n",
    "    for rec in records :\n",
    "        print(rec.string.replace(\" \", \"\"))\n",
    "        f.write(rec.string.replace(\" \", \"\"))\n",
    "    f.close()\n",
    "        \n",
    "else :                                   #전적을 검색한적이 있다면\n",
    "    copyfile(\"전적.txt\", \"예전전적.txt\") #예전에 검색한 전적을 \n",
    "                                         #예전전적.txt에 저장\n",
    "    f = open(\"전적.txt\", \"w\")\n",
    "    for rec in records :\n",
    "        print(rec.string.replace(\" \", \"\"))\n",
    "        f.write(rec.string.replace(\" \", \"\"))\n",
    "    f.close()\n",
    "    if cmp(\"전적.txt\", \"예전전적.txt\") :  #파일 비교\n",
    "        print(\"게임을 플레이하지 않았습니다.\")\n",
    "    else : \n",
    "        print(\"게임을 플레이한 기록이 있습니다.\")"
   ]
  }
 ],
 "metadata": {
  "kernelspec": {
   "display_name": "Python 3",
   "language": "python",
   "name": "python3"
  },
  "language_info": {
   "codemirror_mode": {
    "name": "ipython",
    "version": 3
   },
   "file_extension": ".py",
   "mimetype": "text/x-python",
   "name": "python",
   "nbconvert_exporter": "python",
   "pygments_lexer": "ipython3",
   "version": "3.7.3"
  }
 },
 "nbformat": 4,
 "nbformat_minor": 2
}
