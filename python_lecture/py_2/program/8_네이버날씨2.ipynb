{
 "cells": [
  {
   "cell_type": "code",
   "execution_count": null,
   "metadata": {},
   "outputs": [
    {
     "name": "stdout",
     "output_type": "stream",
     "text": [
      "현재 날씨가 궁금한 동네의 이름을 입력해주세요 : --list\n"
     ]
    }
   ],
   "source": [
    "from urllib import request, parse\n",
    "from bs4 import BeautifulSoup\n",
    "from selenium import webdriver\n",
    "from selenium.webdriver import Chrome\n",
    "import time\n",
    "\n",
    "\"\"\"GET 방식을 통해 HTTP 요청을 하게 되는 파라미터 정보는 경우 URL 뒤에 붙어 전송됩니다.\n",
    "이때 URL은 ASCII 코드값만 사용되는데, 한글은 ASCII 코드로 표현할 수 없으므로 인코딩 해주어야 합니다.\n",
    "\"\"\"\n",
    "\n",
    "cd_path = '../../chromedriver'\n",
    "driver = webdriver.Chrome(executable_path=cd_path)\n",
    "url = 'https://weather.naver.com/rgn/townWetr.nhn'\n",
    "driver.implicitly_wait(5)\n",
    "driver.get(url)\n",
    "\n",
    "_si_do_id = 'region_larea_list'\n",
    "_si_gun_gu_id = 'region_marea_header'\n",
    "_dong_id = 'region_sarea_header'\n",
    "_si_do_click = '#region_larea_header > a'\n",
    "_each_si_do = '#region_larea_list > li:nth-child'\n",
    "# 1. 시 id=\"region_larea_list\" 구 id=\"region_marea_header\" 동 id=\"region_sarea_header\"\n",
    "# 2. --list 하면 1) 시 목록 알려주고 2) 구 목록 알려주고 3 ) 동 목록 알려주기\n",
    "\n",
    "while True:\n",
    "    try:\n",
    "        town = input(\"현재 날씨가 궁금한 동네의 이름을 입력해주세요 : \")\n",
    "\n",
    "        if town == \"exit\" :\n",
    "            break\n",
    "        \n",
    "        elif town == \"--list\" :\n",
    "            driver.find_element_by_css_selector(_si_do_click).click()\n",
    "            time.sleep(3)\n",
    "            driver.implicitly_wait(3)\n",
    "            html = driver.page_source\n",
    "            soup = BeautifulSoup(html,'html.parser')\n",
    "            _si_do_list = soup.find('ul', {'id' : _si_do_id}).find_all('a')\n",
    "            #for sido in _si_do_list : \n",
    "            #    print(sido.text)\n",
    "            driver.implicitly_wait(3)\n",
    "            driver.find_element_by_css_selector('#region_larea_list > li:nth-child(1) > a').click()\n",
    "            #시, 도는 총 17개\n",
    "            #region_larea_list > li:nth-child(1) ~ #region_larea_list > li:nth-child(17)\n",
    "            #for i in range(1, len(_si_do_list) + 1) : \n",
    "                # 강원도~충청북도까지 누르기\n",
    "                #driver.find_element_by_css_selector('#region_larea_list > li:nth-child(1) > a').click()\n",
    "                #time.sleep(1)\n",
    "            \n",
    "        else : \n",
    "            town_weather = parse.quote(town + \"+날씨\")\n",
    "            url = 'https://search.naver.com/search.naver?ie=utf8&query='+ town_weather\n",
    "            html = request.urlopen(url).read()\n",
    "            soup = BeautifulSoup(html,'html.parser')         \n",
    "            print('현재 \\'' + town + '\\'은 ' + soup.find('p', class_='info_temperature').find('span', class_='todaytemp').text + '도 입니다.', sep = '')\n",
    "\n",
    "    except AttributeError :\n",
    "        print(\"리스트에 없는 동네 이름입니다.\", \"끝내려면 exit를 입력하세요\", sep='\\n')\n",
    "        continue\n",
    "        \n",
    "    except EOFError :\n",
    "        break\n",
    "\n",
    "print(\"프로그램 종료\")\n",
    "\n",
    "\n",
    "import os\n",
    "os.system('pause')"
   ]
  },
  {
   "cell_type": "code",
   "execution_count": null,
   "metadata": {},
   "outputs": [],
   "source": []
  }
 ],
 "metadata": {
  "kernelspec": {
   "display_name": "Python 3",
   "language": "python",
   "name": "python3"
  },
  "language_info": {
   "codemirror_mode": {
    "name": "ipython",
    "version": 3
   },
   "file_extension": ".py",
   "mimetype": "text/x-python",
   "name": "python",
   "nbconvert_exporter": "python",
   "pygments_lexer": "ipython3",
   "version": "3.7.3"
  }
 },
 "nbformat": 4,
 "nbformat_minor": 2
}
