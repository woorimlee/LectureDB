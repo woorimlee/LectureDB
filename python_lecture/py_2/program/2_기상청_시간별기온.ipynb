{
 "cells": [
  {
   "cell_type": "code",
   "execution_count": 2,
   "metadata": {},
   "outputs": [
    {
     "name": "stdout",
     "output_type": "stream",
     "text": [
      "시각 : 18\n",
      "기온 : 16.0\n",
      "\n",
      "시각 : 21\n",
      "기온 : 15.0\n",
      "\n",
      "시각 : 24\n",
      "기온 : 13.0\n",
      "\n",
      "시각 : 3\n",
      "기온 : 11.0\n",
      "\n",
      "시각 : 6\n",
      "기온 : 10.0\n",
      "\n",
      "시각 : 9\n",
      "기온 : 12.0\n",
      "\n",
      "시각 : 12\n",
      "기온 : 15.0\n",
      "\n",
      "시각 : 15\n",
      "기온 : 16.0\n",
      "\n",
      "시각 : 18\n",
      "기온 : 13.0\n",
      "\n",
      "시각 : 21\n",
      "기온 : 10.0\n",
      "\n",
      "시각 : 24\n",
      "기온 : 8.0\n",
      "\n",
      "시각 : 3\n",
      "기온 : 7.0\n",
      "\n",
      "시각 : 6\n",
      "기온 : 7.0\n",
      "\n",
      "시각 : 9\n",
      "기온 : 10.0\n",
      "\n",
      "시각 : 12\n",
      "기온 : 16.0\n",
      "\n",
      "시각 : 15\n",
      "기온 : 17.0\n",
      "\n",
      "시각 : 18\n",
      "기온 : 15.0\n",
      "\n",
      "시각 : 21\n",
      "기온 : 12.0\n",
      "\n",
      "시각 : 24\n",
      "기온 : 11.0\n",
      "\n"
     ]
    }
   ],
   "source": [
    "from urllib import request\n",
    "from bs4 import BeautifulSoup as bs\n",
    "url = \"http://www.kma.go.kr/wid/queryDFSRSS.jsp?zone=1111060000\"\n",
    "html = request.urlopen(url).read()\n",
    "soup = bs(html, 'html.parser')\n",
    "all_datas = soup.find_all(\"data\")\n",
    "for data in all_datas : \n",
    "    hour = data.find(\"hour\").string\n",
    "    temp = data.find(\"temp\").string\n",
    "    print(\"시각 : {0}\\n기온 : {1}\\n\".format(hour, temp))"
   ]
  }
 ],
 "metadata": {
  "kernelspec": {
   "display_name": "Python 3",
   "language": "python",
   "name": "python3"
  },
  "language_info": {
   "codemirror_mode": {
    "name": "ipython",
    "version": 3
   },
   "file_extension": ".py",
   "mimetype": "text/x-python",
   "name": "python",
   "nbconvert_exporter": "python",
   "pygments_lexer": "ipython3",
   "version": "3.7.3"
  }
 },
 "nbformat": 4,
 "nbformat_minor": 2
}
