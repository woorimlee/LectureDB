{
 "cells": [
  {
   "cell_type": "code",
   "execution_count": null,
   "metadata": {},
   "outputs": [],
   "source": [
    "from urllib import request\n",
    "from bs4 import BeautifulSoup as bs\n",
    "url = \"http://www.kma.go.kr/wid/queryDFSRSS.jsp?zone=1111060000\"\n",
    "html = request.urlopen(url).read()\n",
    "soup = bs(html, 'html.parser')\n",
    "all_datas = soup.find_all(\"data\")\n",
    "for data in all_datas : \n",
    "    hour = data.find(\"hour\").string\n",
    "    temp = data.find(\"temp\").string\n",
    "    print(\"시각 : {0}\\n기온 : {1}\\n\".format(hour, temp))"
   ]
  }
 ],
 "metadata": {
  "kernelspec": {
   "display_name": "Python 3",
   "language": "python",
   "name": "python3"
  },
  "language_info": {
   "codemirror_mode": {
    "name": "ipython",
    "version": 3
   },
   "file_extension": ".py",
   "mimetype": "text/x-python",
   "name": "python",
   "nbconvert_exporter": "python",
   "pygments_lexer": "ipython3",
   "version": "3.7.3"
  }
 },
 "nbformat": 4,
 "nbformat_minor": 2
}
