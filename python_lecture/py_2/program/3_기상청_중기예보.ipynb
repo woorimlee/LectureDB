{
 "cells": [
  {
   "cell_type": "code",
   "execution_count": 1,
   "metadata": {},
   "outputs": [
    {
     "name": "stdout",
     "output_type": "stream",
     "text": [
      "<http.client.HTTPResponse object at 0x0000020FE09D9B00>\n",
      "전국 육상 중기예보 - 2019년 11월 22일 (금)요일 18:00 발표\n",
      "기압골의 영향으로 제주도는 25~26일에 비, 동풍의 영향으로 강원영동은 25일과 27~28일에 비 또는 눈이 오겠습니다. <br />그 밖의 날은 고기압의 영향으로 맑은 날이 많겠습니다.<br />기온은 평년(최저기온: -6~6℃, 최고기온: 6~15℃)보다 높겠습니다. <br />강수량은 평년(1~3mm)보다 적겠으나, 강원영동과 제주도는 조금 많겠습니다.<br /><br />* 25일에 북서쪽에서 찬공기가 유입되고 바람도 강하게 불어 춥겠고,<br />  강원산지에는 많은 눈이 쌓이는 곳이 있겠으니, 건강관리와 시설물 관리에 유의하기 바라며, 앞으로 발표되는 기상정보를 참고하기 바랍니다.\n"
     ]
    }
   ],
   "source": [
    "from bs4 import BeautifulSoup\n",
    "import urllib.request as req\n",
    "\n",
    "url = \"http://www.kma.go.kr/weather/forecast/mid-term-rss3.jsp\"\n",
    "res = req.urlopen(url)\n",
    "print(res)\n",
    "soup = BeautifulSoup(res, \"html.parser\")\n",
    "title = soup.select_one(\"item > title\").string\n",
    "wf = soup.find(\"wf\").string\n",
    "print(title)\n",
    "print(wf)"
   ]
  }
 ],
 "metadata": {
  "kernelspec": {
   "display_name": "Python 3",
   "language": "python",
   "name": "python3"
  },
  "language_info": {
   "codemirror_mode": {
    "name": "ipython",
    "version": 3
   },
   "file_extension": ".py",
   "mimetype": "text/x-python",
   "name": "python",
   "nbconvert_exporter": "python",
   "pygments_lexer": "ipython3",
   "version": "3.7.3"
  }
 },
 "nbformat": 4,
 "nbformat_minor": 2
}
