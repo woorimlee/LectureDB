{
 "cells": [
  {
   "cell_type": "code",
   "execution_count": 2,
   "metadata": {},
   "outputs": [
    {
     "name": "stdout",
     "output_type": "stream",
     "text": [
      "강한나\n",
      "안치홍\n",
      "엑스원 해체\n",
      "설국열차\n",
      "엑스원\n",
      "진주만\n",
      "봉준호\n",
      "우리말겨루기 아나운서\n",
      "터널\n",
      "골든글로브\n",
      "질투의 화신\n",
      "윤하\n",
      "정국\n",
      "월요일예능\n",
      "x1\n",
      "8000달러\n",
      "합천\n",
      "휴머니멀\n",
      "거미\n",
      "고유정\n"
     ]
    }
   ],
   "source": [
    "import requests\n",
    "from bs4 import BeautifulSoup\n",
    "\n",
    "\n",
    "html = requests.get('http://www.naver.com/').text\n",
    "soup = BeautifulSoup(html, 'html.parser')\n",
    "\n",
    "title_list = soup.select('.PM_CL_realtimeKeyword_rolling span[class*=ah_k]')\n",
    "\n",
    "for title in title_list :\n",
    "     print(title.text)\n",
    "\n",
    "\n",
    "\n"
   ]
  }
 ],
 "metadata": {
  "kernelspec": {
   "display_name": "Python 3",
   "language": "python",
   "name": "python3"
  },
  "language_info": {
   "codemirror_mode": {
    "name": "ipython",
    "version": 3
   },
   "file_extension": ".py",
   "mimetype": "text/x-python",
   "name": "python",
   "nbconvert_exporter": "python",
   "pygments_lexer": "ipython3",
   "version": "3.7.3"
  }
 },
 "nbformat": 4,
 "nbformat_minor": 2
}
