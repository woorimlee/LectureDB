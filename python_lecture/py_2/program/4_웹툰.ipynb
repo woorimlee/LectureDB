{
 "cells": [
  {
   "cell_type": "code",
   "execution_count": 4,
   "metadata": {
    "scrolled": true
   },
   "outputs": [
    {
     "name": "stdout",
     "output_type": "stream",
     "text": [
      "'월, 화, 수, 목, 금, 토, 일' 중에 입력\n",
      "월\n",
      "치즈인더트랩 (재)\n"
     ]
    }
   ],
   "source": [
    "#방법 1. 사용자한테 요일 입력받아오기\n",
    "#방법 2. 현재 시간 + 1시간 20분 뒤 요일 업데이트 목록 받아오기\n",
    "\n",
    "import time\n",
    "from bs4 import BeautifulSoup\n",
    "from selenium import webdriver\n",
    "from selenium.webdriver import Chrome\n",
    "\n",
    "cd_path = '../../chromedriver'\n",
    "days = {'월' : 'mon', '화' : 'tue', '수' : 'wed', '목' : 'thu', '금' : 'fri', '토' : 'sat', '일' : 'sun'}\n",
    "days_list = list(days.values())\n",
    "\n",
    "#방법 1\n",
    "def select_Day() :\n",
    "    print(\"'월, 화, 수, 목, 금, 토, 일' 중에 입력\")\n",
    "    day = input()\n",
    "    day = days[day]\n",
    "    return day\n",
    "    \n",
    "#방법 2\n",
    "def calculate_Day() :\n",
    "    t = time.localtime()\n",
    "    today = time.localtime().tm_wday\n",
    "    hour = t.tm_hour\n",
    "    if(t.tm_min >=40) :\n",
    "        hour += 1\n",
    "    if(hour >= 23) :\n",
    "        today += 1\n",
    "    day = days_list[today]\n",
    "    return day\n",
    "    \n",
    "#day = select_Day()\n",
    "day = calculate_Day()\n",
    "url = \"https://comic.naver.com/webtoon/weekdayList.nhn?week=\" + day\n",
    "driver = webdriver.Chrome(executable_path=cd_path)\n",
    "driver.implicitly_wait(3)\n",
    "driver.get(url)\n",
    "html = driver.page_source\n",
    "soup = BeautifulSoup(html, 'html.parser')\n",
    "\n",
    "lists = soup.find('ul', {'class' : 'img_list'})\n",
    "updates = lists.select(\"ul > li > div > a\")\n",
    "titles = lists.select(\"ul > li > dl > dt > a\")\n",
    "\n",
    "for update in updates :\n",
    "    find_em_tag = update.find('em')\n",
    "    if(find_em_tag != None) :\n",
    "        if(find_em_tag.attrs['class'] == ['ico_updt']) :\n",
    "            print(update['title'])"
   ]
  },
  {
   "cell_type": "markdown",
   "metadata": {},
   "source": [
    "/html/body/div/div[3]/div[1]/div[1]/ul/li[2]/dl/dt/a/strong\n",
    "/html/body/div/div[3]/div[1]/div[4]/ul/li[1]/dl\n",
    "\n",
    "titles = soup.find('ul', {'class' : 'img_list'})\n",
    "titles = titles.select(\"ul > li > div > a\")\n",
    "for title in titles :\n",
    "    print(title)\n",
    "    print(title.attrs)\n",
    "{'class': ['ico_updt']} <class 'dict'>\n"
   ]
  }
 ],
 "metadata": {
  "kernelspec": {
   "display_name": "Python 3",
   "language": "python",
   "name": "python3"
  },
  "language_info": {
   "codemirror_mode": {
    "name": "ipython",
    "version": 3
   },
   "file_extension": ".py",
   "mimetype": "text/x-python",
   "name": "python",
   "nbconvert_exporter": "python",
   "pygments_lexer": "ipython3",
   "version": "3.7.3"
  }
 },
 "nbformat": 4,
 "nbformat_minor": 2
}
