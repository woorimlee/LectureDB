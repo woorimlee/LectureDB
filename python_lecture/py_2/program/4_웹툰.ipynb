{
 "cells": [
  {
   "cell_type": "markdown",
   "metadata": {},
   "source": [
    "/html/body/div/div[3]/div[1]/div[1]/ul/li[2]/dl/dt/a/strong\n",
    "/html/body/div/div[3]/div[1]/div[4]/ul/li[1]/dl\n",
    "\n",
    "titles = soup.find('ul', {'class' : 'img_list'})\n",
    "titles = titles.select(\"ul > li > div > a\")\n",
    "for title in titles :\n",
    "    print(title)\n",
    "    print(title.attrs)\n",
    "{'class': ['ico_updt']} <class 'dict'>\n"
   ]
  },
  {
   "cell_type": "code",
   "execution_count": 14,
   "metadata": {
    "scrolled": true
   },
   "outputs": [
    {
     "name": "stdout",
     "output_type": "stream",
     "text": [
      "신의 탑\n",
      "윈드브레이커\n",
      "인생존망\n",
      "평범한 8반\n",
      "귀전구담\n",
      "백수세끼\n",
      "니편내편\n",
      "용비불패 완전판\n",
      "악취\n",
      "칼가는 소녀\n",
      "장씨세가 호위무사\n",
      "링크보이\n",
      "히어로메이커\n",
      "이것도 친구라고\n",
      "아는 여자애\n",
      "교환일기\n",
      "마왕이 되는 중2야\n",
      "지구멸망버튼\n",
      "신을 죽이는 방법\n",
      "요리GO\n",
      "아이키우는만화\n",
      "일진이 사나워\n",
      "첫사랑입니다만\n",
      "같은도장\n",
      "꿈의 기업\n",
      "삶이 우리를 속일지라도\n",
      "피플\n",
      "위대한 방옥숙\n",
      "닥터 하운드\n",
      "정보전사 202\n",
      "지옥\n",
      "요괴대전\n",
      "내 어린고양이와 늙은개 (재)\n",
      "하슬라\n",
      "블루투스\n",
      "물레\n",
      "모락모락 왕세자님\n",
      "인간의 온도\n",
      "사소한 냐냐\n",
      "플랫다이어리\n",
      "여기 악마가 있어\n",
      "뱀파이어의 꽃\n",
      "앵무살수\n",
      "중독연구소\n"
     ]
    }
   ],
   "source": [
    "#방법 1. 사용자한테 요일 입력받아오기\n",
    "#방법 2. 현재 시간이 10시 40분 이후라면 내일의 웹툰 업데이트 목록 가져오기\n",
    "\n",
    "import time\n",
    "from bs4 import BeautifulSoup\n",
    "from selenium import webdriver\n",
    "from selenium.webdriver import Chrome\n",
    "\n",
    "cd_path = '../../chromedriver'\n",
    "days = {'월' : 'mon', '화' : 'tue', '수' : 'wed', '목' : 'thu', '금' : 'fri', '토' : 'sat', '일' : 'sun'}\n",
    "days_list = list(days.values())\n",
    "\n",
    "#방법 1\n",
    "def select_Day() :\n",
    "    print(\"'월, 화, 수, 목, 금, 토, 일' 중에 입력\")\n",
    "    day = input()\n",
    "    day = days[day]\n",
    "    return day\n",
    "    \n",
    "#방법 2\n",
    "def calculate_Day() :\n",
    "    t = time.localtime()\n",
    "    today = time.localtime().tm_wday\n",
    "    hour = t.tm_hour\n",
    "    if(t.tm_min >=40) :\n",
    "        hour += 1\n",
    "    if(hour >= 23) :\n",
    "        today += 1\n",
    "    day = days_list[today]\n",
    "    return day\n",
    "    \n",
    "#day = select_Day()\n",
    "day = calculate_Day()\n",
    "url = \"https://comic.naver.com/webtoon/weekdayList.nhn?week=\" + day\n",
    "driver = webdriver.Chrome(executable_path=cd_path)\n",
    "driver.implicitly_wait(3)\n",
    "driver.get(url) \n",
    "html = driver.page_source\n",
    "soup = BeautifulSoup(html, 'html.parser')\n",
    "\n",
    "lists = soup.find('ul', {'class' : 'img_list'})\n",
    "updates = lists.select(\"ul > li > div > a\")\n",
    "\n",
    "for update in updates :\n",
    "    find_em_tag = update.find('em')\n",
    "    if(find_em_tag != None) :\n",
    "        if(find_em_tag.attrs['class'] == ['ico_updt']) :\n",
    "            print(update['title'])"
   ]
  }
 ],
 "metadata": {
  "kernelspec": {
   "display_name": "Python 3",
   "language": "python",
   "name": "python3"
  },
  "language_info": {
   "codemirror_mode": {
    "name": "ipython",
    "version": 3
   },
   "file_extension": ".py",
   "mimetype": "text/x-python",
   "name": "python",
   "nbconvert_exporter": "python",
   "pygments_lexer": "ipython3",
   "version": "3.7.3"
  }
 },
 "nbformat": 4,
 "nbformat_minor": 2
}
