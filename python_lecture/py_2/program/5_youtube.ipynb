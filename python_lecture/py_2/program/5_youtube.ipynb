{
 "cells": [
  {
   "cell_type": "code",
   "execution_count": 1,
   "metadata": {},
   "outputs": [
    {
     "name": "stdout",
     "output_type": "stream",
     "text": [
      "[#HASHTALK] EP.2 프린세스 면 언니와 단호박 수진 (ENG)ㅣ(여자)아이들 ((G)I-DLE) 조회수 9.3만회\n",
      "[#HASHTALK] EP.1 큰손 우기가 주문하는 방법 & 슈화가 과자를 먹는 방법 (ENG)ㅣ(여자)아이들 ((G)I-DLE) 조회수 9만회\n",
      "(여자)아이들((G)I-DLE) - 'LION' (Choreography Practice Video) 조회수 288만회\n",
      "(여자)아이들((G)I-DLE) - 'LION' Official Music Video 조회수 3410만회\n",
      "(여자)아이들((G)I-DLE) - 'LION' M/V Teaser 조회수 184만회\n",
      "(여자)아이들((G)I-DLE) - '싫다고 말해 (Nightmare Ver.)' (Halloween Ver. Choreography Video) 조회수 383만회\n",
      "(여자)아이들((G)I-DLE) - 'Uh-Oh' Official Music Video 조회수 2596만회\n",
      "(여자)아이들((G)I-DLE) - 'Uh-Oh' M/V Teaser 2 조회수 391만회\n",
      "(여자)아이들((G)I-DLE) - 'Uh-Oh' M/V Teaser 1 조회수 76만회\n",
      "(여자)아이들((G)I-DLE) - 'Senorita' Official Music Video 조회수 3486만회\n",
      "(여자)아이들((G)I-DLE) - 'Senorita' M/V Teaser 조회수 537만회\n",
      "(여자)아이들((G)I-DLE) - 'Senorita' : 우기(YUQI) Teaser 조회수 57만회\n",
      "(여자)아이들((G)I-DLE) - 'Senorita' : 민니(MINNIE) Teaser 조회수 45만회\n",
      "(여자)아이들((G)I-DLE) - 'Senorita' : 슈화(SHUHUA) Teaser 조회수 59만회\n",
      "(여자)아이들((G)I-DLE) - 'Senorita' : 수진(SOOJIN) Teaser 조회수 55만회\n",
      "(여자)아이들((G)I-DLE) - 'Senorita' : 소연(SOYEON) Teaser 조회수 228만회\n",
      "(여자)아이들((G)I-DLE) - 'Senorita' : 미연(MIYEON) Teaser 조회수 65만회\n",
      "(여자)아이들((G)I-DLE) - 2nd mini album \"I made\" Audio snippet 조회수 71만회\n",
      "(여자)아이들((G)I-DLE) - 2nd mini album \"I made\" Art film 조회수 49만회\n",
      "(여자)아이들((G)I-DLE) - '한(一)(HANN(Alone))' Official Music Video 조회수 8010만회\n",
      "(여자)아이들((G)I-DLE) - '한(一)(HANN(Alone))' M/V Teaser 조회수 116만회\n",
      "(여자)아이들((G)I-DLE) - 'LATATA' Official Music Video 조회수 829만회\n",
      "(여자)아이들((G)I-DLE) - 'LATATA' M/V teaser 조회수 72만회\n",
      "(여자)아이들((G)I-DLE) - 'LATATA' : 슈화(SHUHUA) Teaser 조회수 26만회\n",
      "(여자)아이들((G)I-DLE) - 'LATATA' : 우기(YUQI) Teaser 조회수 30만회\n",
      "(여자)아이들((G)I-DLE) - 'LATATA' : 소연(SOYEON) Teaser 조회수 23만회\n",
      "(여자)아이들((G)I-DLE) - 'LATATA' : 수진(SOOJIN) Teaser 조회수 27만회\n",
      "(여자)아이들((G)I-DLE) - 'LATATA' : 민니(MINNIE) Teaser 조회수 36만회\n",
      "(여자)아이들((G)I-DLE) - 'LATATA' : 미연(MIYEON) Teaser 조회수 31만회\n",
      "(여자)아이들((G)I-DLE) - 1st mini album \"I am\" Audio snippet 조회수 23만회\n"
     ]
    }
   ],
   "source": [
    "import time\n",
    "from bs4 import BeautifulSoup\n",
    "from selenium import webdriver\n",
    "from selenium.webdriver import Chrome\n",
    "from selenium.webdriver.common.keys import Keys\n",
    "\n",
    "cd_path = '../../chromedriver'\n",
    "driver = webdriver.Chrome(cd_path)\n",
    "url = \"https://www.youtube.com\"\n",
    "driver.implicitly_wait(5)\n",
    "driver.get(url)\n",
    "\n",
    "keyword = \"(G)I-DLE (여자)아이들\"\n",
    "driver.find_element_by_css_selector(\"#search\").click()\n",
    "driver.find_element_by_css_selector(\"#search\").send_keys(keyword)\n",
    "driver.find_element_by_css_selector(\"#search\").send_keys(Keys.RETURN)\n",
    "\n",
    "driver.implicitly_wait(5)\n",
    "\n",
    "driver.find_element_by_xpath(\"//div[@id='info']/ytd-channel-name[@id='channel-title']\").click()\n",
    "\n",
    "driver.find_element_by_xpath(\"//*[@id='tabsContent']/paper-tab[2]/div\").click()\n",
    "\n",
    "body = driver.find_element_by_tag_name('body')\n",
    "\n",
    "num_of_pagedown = 30\n",
    "while num_of_pagedown :\n",
    "    body.send_keys(Keys.PAGE_DOWN)\n",
    "    time.sleep(0.1)\n",
    "    num_of_pagedown -= 1\n",
    "    try : \n",
    "        driver.find_element_by_xpath(\"//*[@id='view-all']/a\").click()\n",
    "        break\n",
    "    except : \n",
    "        pass\n",
    "\n",
    "num_of_pagedown = 30\n",
    "while num_of_pagedown :\n",
    "    body.send_keys(Keys.PAGE_DOWN)\n",
    "    time.sleep(0.1)\n",
    "    num_of_pagedown -= 1\n",
    "\n",
    "html = driver.page_source\n",
    "soup = BeautifulSoup(html,'html.parser')\n",
    "titles= soup.select(\"ytd-grid-renderer > div > ytd-grid-video-renderer > div > div > div > h3\")\n",
    "views = soup.select(\"ytd-grid-renderer > div > ytd-grid-video-renderer > div > div > div > div > div > div > span\")\n",
    "for i, title in enumerate(titles) :\n",
    "    print(title.text, views[i*2].text)\n",
    "    "
   ]
  },
  {
   "cell_type": "code",
   "execution_count": null,
   "metadata": {},
   "outputs": [],
   "source": [
    "/html/body/ytd-app/div/ytd-page-manager/ytd-browse[1]/ytd-two-column-browse-results-renderer/div[1]/ytd-section-list-renderer/div[2]/ytd-item-section-renderer[1]/div[3]/ytd-shelf-renderer/div[1]/div[2]/yt-horizontal-list-renderer/div[2]/div/ytd-grid-video-renderer[1]/div[1]/div[1]/div[1]/h3/a\n",
    "/html/body/ytd-app/div/ytd-page-manager/ytd-browse[2]/ytd-two-column-browse-results-renderer/div[1]/ytd-section-list-renderer/div[2]/ytd-item-section-renderer/div[3]/ytd-grid-renderer/div[1]/ytd-grid-video-renderer[4]/div[1]/div[1]/div[1]/h3/a\n",
    "/html/body/ytd-app/div/ytd-page-manager/ytd-browse[2]/ytd-two-column-browse-results-renderer/div[1]/ytd-section-list-renderer/div[2]/ytd-item-section-renderer/div[3]/ytd-grid-renderer/div[1]/ytd-grid-video-renderer[3]/div[1]/div[1]/div[1]/div/div[1]/div[2]/span[1]"
   ]
  }
 ],
 "metadata": {
  "kernelspec": {
   "display_name": "Python 3",
   "language": "python",
   "name": "python3"
  },
  "language_info": {
   "codemirror_mode": {
    "name": "ipython",
    "version": 3
   },
   "file_extension": ".py",
   "mimetype": "text/x-python",
   "name": "python",
   "nbconvert_exporter": "python",
   "pygments_lexer": "ipython3",
   "version": "3.7.3"
  }
 },
 "nbformat": 4,
 "nbformat_minor": 2
}
