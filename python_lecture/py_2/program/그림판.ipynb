{
 "cells": [
  {
   "cell_type": "code",
   "execution_count": 1,
   "metadata": {},
   "outputs": [
    {
     "ename": "SyntaxError",
     "evalue": "invalid syntax (<ipython-input-1-f71e283a7a8b>, line 20)",
     "output_type": "error",
     "traceback": [
      "\u001b[1;36m  File \u001b[1;32m\"<ipython-input-1-f71e283a7a8b>\"\u001b[1;36m, line \u001b[1;32m20\u001b[0m\n\u001b[1;33m    line_btn.grid(row=0, column=1, sticky=tk.)\u001b[0m\n\u001b[1;37m                                             ^\u001b[0m\n\u001b[1;31mSyntaxError\u001b[0m\u001b[1;31m:\u001b[0m invalid syntax\n"
     ]
    }
   ],
   "source": [
    "import tkinter as tk\n",
    "\n",
    "window = tk.Tk()\n",
    "window.title(\"그림판\")\n",
    "window.geometry(\"640x400\")\n",
    "\n",
    "#만약 여기서 6번째 줄이 주석처리된다면, 지금 생성한 frame은 크기 설정이 비어있기 때문에 최소한의 크기로 표시된다.\n",
    "paint_frame = tk.Frame(window) \n",
    "paint_frame.grid(row=0, column=0, sticky=tk.W)\n",
    "\n",
    "#그리기 버튼\n",
    "#row나 column은 순서대로 배치됨\n",
    "#Button을 만들 때 text가 들어가야 한다면 text 속성을 이용\n",
    "paint_btn = tk.Button(paint_frame, text=\"pen\", width=3)\n",
    "#0행 0열에 위치시킴.\n",
    "paint_btn.grid(row=0, column=0, sticky=tk.W)\n",
    "\n",
    "#선그리기 버튼\n",
    "line_btn = tk.Button(paint_frame, text=\"─\", width=3)\n",
    "line_btn.grid(row=0, column=1, sticky=tk.)"
   ]
  },
  {
   "cell_type": "markdown",
   "metadata": {},
   "source": [
    "### tkinter.TK() 관련\n",
    "+ window 창 생성하기\n",
    "    + tkinter.TK()\n",
    "+ 생성된 창이 유지되도록 하기\n",
    "    + 창_이름.mainloop()\n",
    "+ 생성한 창의 이름을 결정\n",
    "    + 창_이름.title()\n",
    "+ 창 너비, 높이, 생성 위치 설정\n",
    "    + 창_이름.geometry()\n",
    "    \n",
    "### tkinter.Frame() 관련\n",
    "+ 윈도우 창에 프레임 생성(생성한 프레임에 위젯(기능 or 부품)들을 추가할 것임)\n",
    "    + tkinter.Frame(창_이름)\n",
    "+ 프레임에 위젯을 배치시키는 방법 중 하나. 셀 단위로 위젯을 배치하는 함수.\n",
    "    + 프레임_이름.grid()\n",
    "        + row, column : 해당 행, 열로 위젯을 위치시킴\n",
    "        + rowspan, columnspan : 현재 배치된 구역에서 위치를 조정\n",
    "        + sticky : 현재 배치된 구역 안에서 특정 위치로 이동시킴.\n",
    "            + tkinter.방향 : 방향 부분에 N, S, E, W, NE, NS, ...., NSEW 등을 적어줌(북, 남, 동, 서)\n",
    "+\n",
    "+\n",
    "+\n",
    "+\n",
    "+\n",
    "+\n",
    "+\n",
    "+\n",
    "+\n",
    "+\n",
    "+\n",
    "+\n",
    "+\n",
    "+\n",
    "+\n",
    "+\n",
    "+\n",
    "+\n",
    "+\n",
    "+\n",
    "+\n",
    "+\n",
    "+"
   ]
  },
  {
   "cell_type": "code",
   "execution_count": null,
   "metadata": {},
   "outputs": [],
   "source": []
  }
 ],
 "metadata": {
  "kernelspec": {
   "display_name": "Python 3",
   "language": "python",
   "name": "python3"
  },
  "language_info": {
   "codemirror_mode": {
    "name": "ipython",
    "version": 3
   },
   "file_extension": ".py",
   "mimetype": "text/x-python",
   "name": "python",
   "nbconvert_exporter": "python",
   "pygments_lexer": "ipython3",
   "version": "3.7.3"
  }
 },
 "nbformat": 4,
 "nbformat_minor": 2
}
