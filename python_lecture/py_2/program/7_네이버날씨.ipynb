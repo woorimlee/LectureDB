{
 "cells": [
  {
   "cell_type": "code",
   "execution_count": 1,
   "metadata": {},
   "outputs": [
    {
     "name": "stdout",
     "output_type": "stream",
     "text": [
      "현재 날씨가 궁금한 동네의 이름을 입력해주세요 : 대치동\n",
      "현재 대치동 날씨는 -1도 입니다.\n"
     ]
    }
   ],
   "source": [
    "from urllib import request, parse\n",
    "from bs4 import BeautifulSoup\n",
    "\n",
    "\"\"\"GET 방식을 통해 HTTP 요청을 하게 되는 파라미터 정보는 경우 URL 뒤에 붙어 전송됩니다.\n",
    "이때 URL은 ASCII 코드값만 사용되는데, 한글은 ASCII 코드로 표현할 수 없으므로 인코딩 해주어야 합니다.\n",
    "\"\"\"\n",
    "\n",
    "town = input(\"현재 날씨가 궁금한 동네의 이름을 입력해주세요 : \")\n",
    "town_weather = parse.quote(town + \"+날씨\")\n",
    "\n",
    "url = 'https://search.naver.com/search.naver?ie=utf8&query='+ town_weather\n",
    "\n",
    "html = request.urlopen(url).read()\n",
    "soup = BeautifulSoup(html,'html.parser')\n",
    "print('현재 \\'' + town + '\\'은 ' + soup.find('p', class_='info_temperature').find('span', class_='todaytemp').text + '도 입니다.', sep = '')"
   ]
  }
 ],
 "metadata": {
  "kernelspec": {
   "display_name": "Python 3",
   "language": "python",
   "name": "python3"
  },
  "language_info": {
   "codemirror_mode": {
    "name": "ipython",
    "version": 3
   },
   "file_extension": ".py",
   "mimetype": "text/x-python",
   "name": "python",
   "nbconvert_exporter": "python",
   "pygments_lexer": "ipython3",
   "version": "3.7.3"
  }
 },
 "nbformat": 4,
 "nbformat_minor": 2
}
