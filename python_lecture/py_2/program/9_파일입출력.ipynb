{
 "cells": [
  {
   "cell_type": "code",
   "execution_count": null,
   "metadata": {},
   "outputs": [],
   "source": [
    "f = open('새 파일.txt', 'w')\n",
    "print(f)\n",
    "\n",
    "for i in range(10) : \n",
    "    f.write(\"테스트 {0}\\n\".format(i))\n",
    "f.close"
   ]
  },
  {
   "cell_type": "code",
   "execution_count": null,
   "metadata": {},
   "outputs": [],
   "source": [
    "f1 = open('새 파일.txt','a')\n",
    "for i in range(10, 20):\n",
    "    f1.write(\"테스트 {0}\\n\".format(i))\n",
    "f1.close()"
   ]
  },
  {
   "cell_type": "code",
   "execution_count": null,
   "metadata": {},
   "outputs": [],
   "source": [
    "f = open('새 파일.txt', 'w')\n",
    "\n",
    "for i in range(10) : \n",
    "    f.write(\"테스트 {0}\\n\".format(i))\n",
    "f.close()\n",
    "\n",
    "f1 = open('새 파일.txt','a')\n",
    "for i in range(10, 20):\n",
    "    f1.write(\"테스트 {0}\\n\".format(i))\n",
    "f1.close()"
   ]
  },
  {
   "cell_type": "code",
   "execution_count": null,
   "metadata": {},
   "outputs": [],
   "source": [
    "f2 = open('새 파일.txt', 'r')\n",
    "line = f2.readline()\n",
    "print(line)\n",
    "f2.close()"
   ]
  },
  {
   "cell_type": "code",
   "execution_count": null,
   "metadata": {},
   "outputs": [],
   "source": [
    "f3 = open('새 파일.txt', 'r')\n",
    "while True: \n",
    "    line = f3.readline()\n",
    "    if not line: \n",
    "        break\n",
    "    print(line)\n",
    "f3.close()"
   ]
  },
  {
   "cell_type": "code",
   "execution_count": null,
   "metadata": {},
   "outputs": [],
   "source": [
    "f4 = open('새 파일.txt', 'r')\n",
    "lines = f4.readlines()\n",
    "for line in lines:\n",
    "    print(line)"
   ]
  },
  {
   "cell_type": "code",
   "execution_count": null,
   "metadata": {},
   "outputs": [],
   "source": [
    "f5 = open('새 파일.txt', 'r')\n",
    "lines = f5.read()\n",
    "print(lines, type(lines))"
   ]
  },
  {
   "cell_type": "code",
   "execution_count": null,
   "metadata": {},
   "outputs": [],
   "source": [
    "with open('새 파일.txt') as f6:\n",
    "    for line in f6.readlines():\n",
    "        #print(line, end = '')\n",
    "        print(line.strip())"
   ]
  },
  {
   "cell_type": "code",
   "execution_count": null,
   "metadata": {},
   "outputs": [],
   "source": [
    "import os\n",
    "\n",
    "if os.path.isfile(\"새 파일.txt\"):\n",
    "    print(\"파일 존재\")\n",
    "else:\n",
    "    print(\"파일 없음\")\n"
   ]
  },
  {
   "cell_type": "code",
   "execution_count": 2,
   "metadata": {},
   "outputs": [],
   "source": [
    "with open('새 파일10.txt', 'w') as f:\n",
    "    f.write(\"테스트\")"
   ]
  }
 ],
 "metadata": {
  "kernelspec": {
   "display_name": "Python 3",
   "language": "python",
   "name": "python3"
  },
  "language_info": {
   "codemirror_mode": {
    "name": "ipython",
    "version": 3
   },
   "file_extension": ".py",
   "mimetype": "text/x-python",
   "name": "python",
   "nbconvert_exporter": "python",
   "pygments_lexer": "ipython3",
   "version": "3.7.3"
  }
 },
 "nbformat": 4,
 "nbformat_minor": 2
}
