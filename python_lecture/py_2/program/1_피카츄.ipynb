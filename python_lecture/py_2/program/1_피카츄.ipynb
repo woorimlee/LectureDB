{
 "cells": [
  {
   "cell_type": "code",
   "execution_count": 1,
   "metadata": {},
   "outputs": [],
   "source": [
    "from urllib import request\n",
    "\n",
    "url = \"https://0gichul.com/files/attach/images/204/125/877/003/79160512de6dcb7eab93212a13d56fad.jpg\"\n",
    "image_file_name = \"pika.jpg\"\n",
    "request.urlretrieve(url, image_file_name)\n",
    "image_file_name = \"pika2.jpg\"\n",
    "memory = request.urlopen(url).read()\n",
    "with open(image_file_name, mode='wb') as f :\n",
    "    f.write(memory)"
   ]
  }
 ],
 "metadata": {
  "kernelspec": {
   "display_name": "Python 3",
   "language": "python",
   "name": "python3"
  },
  "language_info": {
   "codemirror_mode": {
    "name": "ipython",
    "version": 3
   },
   "file_extension": ".py",
   "mimetype": "text/x-python",
   "name": "python",
   "nbconvert_exporter": "python",
   "pygments_lexer": "ipython3",
   "version": "3.7.3"
  }
 },
 "nbformat": 4,
 "nbformat_minor": 2
}
