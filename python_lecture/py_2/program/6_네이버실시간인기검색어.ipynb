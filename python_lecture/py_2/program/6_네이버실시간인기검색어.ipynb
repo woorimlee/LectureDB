{
 "cells": [
  {
   "cell_type": "code",
   "execution_count": null,
   "metadata": {},
   "outputs": [
    {
     "name": "stdout",
     "output_type": "stream",
     "text": [
      "2020/02/15 17:36:02 \n",
      "실시간 인기 검색어\n",
      "\n",
      "[]\n",
      "2020/02/15 17:36:13 \n",
      "실시간 인기 검색어\n",
      "\n",
      "[]\n",
      "2020/02/15 17:36:38 \n",
      "실시간 인기 검색어\n",
      "\n",
      "[]\n"
     ]
    }
   ],
   "source": [
    "import requests\n",
    "from bs4 import BeautifulSoup\n",
    "from datetime import datetime\n",
    "import keyboard\n",
    "\n",
    "while True :\n",
    "    try:\n",
    "        if keyboard.is_pressed('q'):\n",
    "            now = datetime.now()\n",
    "            print(datetime.today().strftime(\"%Y/%m/%d %H:%M:%S\"), \"\\n실시간 인기 검색어\\n\")\n",
    "            html = requests.get('http://www.naver.com/').text\n",
    "            soup = BeautifulSoup(html, 'html.parser')\n",
    "\n",
    "            #title_list = soup.select('.PM_CL_realtimeKeyword_rolling span[class*=ah_k]')\n",
    "            title_list = soup.select('#PM_ID_ct > div.header > div.section_navbar > div.area_hotkeyword.PM_CL_realtimeKeyword_base > div.ah_roll.PM_CL_realtimeKeyword_rolling_base > div > ul > li > a')\n",
    "            print(title_list)\n",
    "            \n",
    "            for title in title_list :\n",
    "                print(title.find(\"span\", \"ah_k\").text)\n",
    "    except:\n",
    "        break\n"
   ]
  }
 ],
 "metadata": {
  "kernelspec": {
   "display_name": "Python 3",
   "language": "python",
   "name": "python3"
  },
  "language_info": {
   "codemirror_mode": {
    "name": "ipython",
    "version": 3
   },
   "file_extension": ".py",
   "mimetype": "text/x-python",
   "name": "python",
   "nbconvert_exporter": "python",
   "pygments_lexer": "ipython3",
   "version": "3.7.3"
  }
 },
 "nbformat": 4,
 "nbformat_minor": 2
}
