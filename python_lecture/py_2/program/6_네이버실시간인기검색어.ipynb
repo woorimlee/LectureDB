{
 "cells": [
  {
   "cell_type": "code",
   "execution_count": null,
   "metadata": {},
   "outputs": [],
   "source": [
    "import requests\n",
    "from bs4 import BeautifulSoup\n",
    "from datetime import datetime\n",
    "import keyboard\n",
    "\n",
    "while True :\n",
    "    try:\n",
    "        if keyboard.is_pressed('q'):\n",
    "            now = datetime.now()\n",
    "            print(datetime.today().strftime(\"%Y/%m/%d %H:%M:%S\"), \"\\n실시간 인기 검색어\\n\")\n",
    "            html = requests.get('http://www.naver.com/').text\n",
    "            soup = BeautifulSoup(html, 'html.parser')\n",
    "\n",
    "            title_list = soup.select('.PM_CL_realtimeKeyword_rolling span[class*=ah_k]')\n",
    "\n",
    "            for i, title in enumerate(title_list) :\n",
    "                print(i+1, title.text)\n",
    "    except:\n",
    "        break\n"
   ]
  }
 ],
 "metadata": {
  "kernelspec": {
   "display_name": "Python 3",
   "language": "python",
   "name": "python3"
  },
  "language_info": {
   "codemirror_mode": {
    "name": "ipython",
    "version": 3
   },
   "file_extension": ".py",
   "mimetype": "text/x-python",
   "name": "python",
   "nbconvert_exporter": "python",
   "pygments_lexer": "ipython3",
   "version": "3.7.3"
  }
 },
 "nbformat": 4,
 "nbformat_minor": 2
}
