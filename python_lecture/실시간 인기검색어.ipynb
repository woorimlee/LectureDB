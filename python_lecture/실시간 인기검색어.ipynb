{
 "cells": [
  {
   "cell_type": "code",
   "execution_count": 1,
   "metadata": {},
   "outputs": [
    {
     "name": "stdout",
     "output_type": "stream",
     "text": [
      "2019/11/15 18:22:08 \n",
      "실시간 인기 검색어\n",
      "\n",
      "1 스타일난다 겨울세일\n",
      "\n",
      "2 도끼\n",
      "\n",
      "3 유승준\n",
      "\n",
      "4 스타일난다\n",
      "\n",
      "5 한승희\n",
      "\n",
      "6 손금주\n",
      "\n",
      "7 이상희\n",
      "\n",
      "8 뮤직뱅크\n",
      "\n",
      "9 공주대학교\n",
      "\n",
      "10 수고0페\n",
      "\n",
      "11 닥터퓨리 미세먼지 마스크\n",
      "\n",
      "12 엄용수\n",
      "\n",
      "13 스윗소로우\n",
      "\n",
      "14 영화 침묵\n",
      "\n",
      "15 여우티\n",
      "\n",
      "16 진흥상가\n",
      "\n",
      "17 드웨인 존슨\n",
      "\n",
      "18 메가패스 교재무료\n",
      "\n",
      "19 철도파업\n",
      "\n",
      "20 대전 목동 더샵리슈빌\n",
      "\n"
     ]
    }
   ],
   "source": [
    "import requests\n",
    "from bs4 import BeautifulSoup\n",
    "from datetime import datetime\n",
    "import keyboard\n",
    "\n",
    "while True :\n",
    "    try:\n",
    "        if keyboard.is_pressed('q'):\n",
    "            now = datetime.now()\n",
    "            print(datetime.today().strftime(\"%Y/%m/%d %H:%M:%S\"), \"\\n실시간 인기 검색어\\n\")\n",
    "            html = requests.get('http://www.naver.com/').text\n",
    "            soup = BeautifulSoup(html, 'html.parser')\n",
    "\n",
    "            title_list = soup.select('.PM_CL_realtimeKeyword_rolling span[class*=ah_k]')\n",
    "\n",
    "            for i, title in enumerate(title_list) :\n",
    "                print(i+1, title.text)\n",
    "    except:\n",
    "        break\n"
   ]
  }
 ],
 "metadata": {
  "kernelspec": {
   "display_name": "Python 3",
   "language": "python",
   "name": "python3"
  },
  "language_info": {
   "codemirror_mode": {
    "name": "ipython",
    "version": 3
   },
   "file_extension": ".py",
   "mimetype": "text/x-python",
   "name": "python",
   "nbconvert_exporter": "python",
   "pygments_lexer": "ipython3",
   "version": "3.7.3"
  }
 },
 "nbformat": 4,
 "nbformat_minor": 2
}
